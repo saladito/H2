{
 "cells": [
  {
   "cell_type": "code",
   "execution_count": 9,
   "id": "a015ba98-ab11-4e69-9f7a-7267927f8e76",
   "metadata": {},
   "outputs": [],
   "source": [
    "import numpy as np\n",
    "import math\n",
    "import pandas as pd\n",
    "\n",
    "from geneticalgorithm2 import geneticalgorithm2 as ga # for creating and running optimization mode\n",
    "from geneticalgorithm2 import Generation, AlgorithmParams # classes for comfortable parameters setting and getting\n",
    "from geneticalgorithm2 import Crossover, Mutations, Selection # classes for specific mutation and crossover behavior\n",
    "from geneticalgorithm2 import Population_initializer # for creating better start population\n",
    "from geneticalgorithm2 import np_lru_cache # for cache function (if u want)\n",
    "from geneticalgorithm2 import plot_pop_scores # for plotting population scores, if u want\n",
    "from geneticalgorithm2 import Actions, ActionConditions, MiddleCallbacks # middle callbacks"
   ]
  },
  {
   "cell_type": "code",
   "execution_count": 15,
   "id": "d85fbb4f-8c9d-4bbc-ab29-fff34322a800",
   "metadata": {},
   "outputs": [
    {
     "ename": "NameError",
     "evalue": "name 'X' is not defined",
     "output_type": "error",
     "traceback": [
      "\u001b[1;31m---------------------------------------------------------------------------\u001b[0m",
      "\u001b[1;31mNameError\u001b[0m                                 Traceback (most recent call last)",
      "Input \u001b[1;32mIn [21]\u001b[0m, in \u001b[0;36m<cell line: 15>\u001b[1;34m()\u001b[0m\n\u001b[0;32m     12\u001b[0m cota_maxima_benef \u001b[38;5;241m=\u001b[39m profits[\u001b[38;5;241m0\u001b[39m]\u001b[38;5;241m*\u001b[39m\u001b[38;5;241m315\u001b[39m \u001b[38;5;241m+\u001b[39m profits[\u001b[38;5;241m1\u001b[39m]\u001b[38;5;241m*\u001b[39m\u001b[38;5;241m315\u001b[39m \u001b[38;5;241m+\u001b[39m profits[\u001b[38;5;241m2\u001b[39m]\u001b[38;5;241m*\u001b[39m\u001b[38;5;241m210\u001b[39m \u001b[38;5;241m+\u001b[39m profits[\u001b[38;5;241m3\u001b[39m]\u001b[38;5;241m*\u001b[39m\u001b[38;5;241m157.5\u001b[39m \u001b[38;5;241m+\u001b[39m profits[\u001b[38;5;241m4\u001b[39m]\u001b[38;5;241m*\u001b[39m\u001b[38;5;241m210\u001b[39m \u001b[38;5;241m+\u001b[39m profits[\u001b[38;5;241m5\u001b[39m]\u001b[38;5;241m*\u001b[39m\u001b[38;5;241m157.5\u001b[39m\n\u001b[0;32m     13\u001b[0m cota_maxima_1000s \u001b[38;5;241m=\u001b[39m \u001b[38;5;241m315\u001b[39m\u001b[38;5;241m+\u001b[39m\u001b[38;5;241m315\u001b[39m\u001b[38;5;241m+\u001b[39m\u001b[38;5;241m210\u001b[39m\u001b[38;5;241m+\u001b[39m\u001b[38;5;241m157.5\u001b[39m\u001b[38;5;241m+\u001b[39m\u001b[38;5;241m210\u001b[39m\u001b[38;5;241m+\u001b[39m\u001b[38;5;241m157.5\u001b[39m\n\u001b[1;32m---> 15\u001b[0m res \u001b[38;5;241m=\u001b[39m \u001b[38;5;28mint\u001b[39m(profits[\u001b[38;5;241m0\u001b[39m]\u001b[38;5;241m*\u001b[39m\u001b[43mX\u001b[49m[\u001b[38;5;241m0\u001b[39m]) \u001b[38;5;241m+\u001b[39m \u001b[38;5;28mint\u001b[39m(profits[\u001b[38;5;241m1\u001b[39m]\u001b[38;5;241m*\u001b[39mX[\u001b[38;5;241m1\u001b[39m]) \u001b[38;5;241m+\u001b[39m \u001b[38;5;28mint\u001b[39m(profits[\u001b[38;5;241m2\u001b[39m]\u001b[38;5;241m*\u001b[39mX[\u001b[38;5;241m2\u001b[39m]) \u001b[38;5;241m+\u001b[39m \u001b[38;5;28mint\u001b[39m(profits[\u001b[38;5;241m3\u001b[39m]\u001b[38;5;241m*\u001b[39mX[\u001b[38;5;241m3\u001b[39m]) \u001b[38;5;241m+\u001b[39m \u001b[38;5;28mint\u001b[39m(profits[\u001b[38;5;241m4\u001b[39m]\u001b[38;5;241m*\u001b[39mX[\u001b[38;5;241m4\u001b[39m]) \u001b[38;5;241m+\u001b[39m \u001b[38;5;28mint\u001b[39m(profits[\u001b[38;5;241m5\u001b[39m]\u001b[38;5;241m*\u001b[39mX[\u001b[38;5;241m5\u001b[39m]) \u001b[38;5;241m-\u001b[39m pen\n\u001b[0;32m     16\u001b[0m \u001b[38;5;28mprint\u001b[39m(res)\n",
      "\u001b[1;31mNameError\u001b[0m: name 'X' is not defined"
     ]
    }
   ],
   "source": [
    " #read the csv file (put 'r' before the path string to address any special characters in the path, such as '\\'). Don't forget to put the file name at the end of the path + \".csv\"\n",
    "data = pd.read_csv ('data_6_3_LINGO.csv')\n",
    "df = pd.DataFrame(data)\n",
    "\n",
    "b3 = df[[\"B3\"]].to_numpy()\n",
    "b4 = df[[\"B4\"]].to_numpy()\n",
    "b5 = df[[\"B5\"]].to_numpy()\n",
    "\n",
    "# profit contribution per 1000 feet\n",
    "profits = [15.89, 17.89, 16.5, 15.22, 17.5, 16.22]\n",
    "\n",
    "cota_maxima_benef = profits[0]*315 + profits[1]*315 + profits[2]*210 + profits[3]*157.5 + profits[4]*210 + profits[5]*157.5\n",
    "cota_maxima_1000s = 315+315+210+157.5+210+157.5"
   ]
  },
  {
   "cell_type": "code",
   "execution_count": 18,
   "id": "980a035e-00b0-4e5b-af1b-e48b7572dd49",
   "metadata": {},
   "outputs": [],
   "source": [
    "def f(X):\n",
    "    pen = 0\n",
    "    if 1000/(b3[0]*60)*X[0] + 1000/(b3[0]*60)*X[1] > b3[1]:\n",
    "        pen += cota_maxima_benef + 10*(1000/(b3[0]*60)*X[0] + 1000/(b3[0]*60)*X[1] - b3[1])\n",
    "    if 1000/(b4[0]*60)*X[2] + 1000/(b4[0]*60)*X[4] > b4[1]:\n",
    "        pen += cota_maxima_benef + 10*(1000/(b4[0]*60)*X[2] + 1000/(b4[0]*60)*X[4] - b4[1])\n",
    "    if 1000/(b5[0]*60)*X[3] + 1000/(b5[0]*60)*X[5] > b5[1]:\n",
    "        pen += cota_maxima_benef + 10*(1000/(b5[0]*60)*X[3] + 1000/(b5[0]*60)*X[5] - b5[1])\n",
    "    if X[0]+X[1]+X[2]+X[3]+X[4]+X[5] > 600:\n",
    "        pen += cota_maxima_benef + 10*(X[0]+X[1]+X[2]+X[3]+X[4]+X[5] - 600)\n",
    "    if X[1] + X[2] + X[3] < 114:\n",
    "        pen += (315+210+157.5) + 10*abs(X[1] + X[2] + X[3] - 114)\n",
    "    if X[4] + X[5] < 111:\n",
    "        pen += (210+157.5) + 10*abs(X[4] + X[5] - 111)\n",
    "        \n",
    "    res = int(profits[0]*X[0]) + int(profits[1]*X[1]) + int(profits[2]*X[2]) + int(profits[3]*X[3]) + int(profits[4]*X[4]) + int(profits[5]*X[5]) - pen\n",
    "    return -res\n",
    "    "
   ]
  },
  {
   "cell_type": "code",
   "execution_count": 19,
   "id": "1cfb0fa8-ce34-4ddb-a6ab-1ecedf2c6503",
   "metadata": {},
   "outputs": [],
   "source": [
    "algorithm_param = {'max_num_iteration': 100,\\\n",
    "                   'population_size': 100,\\\n",
    "                   'mutation_probability':0.5,\\\n",
    "                   'elit_ratio': 0.01,\\\n",
    "                   'parents_portion': 0.3,\\\n",
    "                   'crossover_type':'one_point',\\\n",
    "                   'mutation_type':'gauss_by_center',\\\n",
    "                   'selection_type':'tournament',\\\n",
    "                   'max_iteration_without_improv':100}"
   ]
  },
  {
   "cell_type": "code",
   "execution_count": 20,
   "id": "7b37475b-81ff-40e7-b158-ade114421ce6",
   "metadata": {},
   "outputs": [
    {
     "ename": "AssertionError",
     "evalue": "Minimized function should return a number, but got '[56821.98926316]' object with type <class 'numpy.ndarray'>",
     "output_type": "error",
     "traceback": [
      "\u001b[1;31m---------------------------------------------------------------------------\u001b[0m",
      "\u001b[1;31mAssertionError\u001b[0m                            Traceback (most recent call last)",
      "Input \u001b[1;32mIn [20]\u001b[0m, in \u001b[0;36m<cell line: 8>\u001b[1;34m()\u001b[0m\n\u001b[0;32m      4\u001b[0m varbound \u001b[38;5;241m=\u001b[39m [[\u001b[38;5;241m218\u001b[39m,\u001b[38;5;241m315\u001b[39m],[\u001b[38;5;241m0\u001b[39m,\u001b[38;5;241m315\u001b[39m],[\u001b[38;5;241m0\u001b[39m,\u001b[38;5;241m210\u001b[39m],[\u001b[38;5;241m0\u001b[39m,\u001b[38;5;241m157.5\u001b[39m],[\u001b[38;5;241m0\u001b[39m,\u001b[38;5;241m210\u001b[39m],[\u001b[38;5;241m0\u001b[39m,\u001b[38;5;241m157.5\u001b[39m]]\n\u001b[0;32m      6\u001b[0m model\u001b[38;5;241m=\u001b[39mga(function\u001b[38;5;241m=\u001b[39mf,dimension\u001b[38;5;241m=\u001b[39m\u001b[38;5;241m6\u001b[39m,variable_type\u001b[38;5;241m=\u001b[39m\u001b[38;5;124m'\u001b[39m\u001b[38;5;124mreal\u001b[39m\u001b[38;5;124m'\u001b[39m,variable_boundaries\u001b[38;5;241m=\u001b[39mvarbound, algorithm_parameters\u001b[38;5;241m=\u001b[39malgorithm_param)\n\u001b[1;32m----> 8\u001b[0m result \u001b[38;5;241m=\u001b[39m \u001b[43mmodel\u001b[49m\u001b[38;5;241;43m.\u001b[39;49m\u001b[43mrun\u001b[49m\u001b[43m(\u001b[49m\u001b[43m)\u001b[49m\n",
      "File \u001b[1;32m~\\anaconda3\\lib\\site-packages\\geneticalgorithm2\\geneticalgorithm2.py:775\u001b[0m, in \u001b[0;36mgeneticalgorithm2.run\u001b[1;34m(self, no_plot, disable_printing, progress_bar_stream, disable_progress_bar, set_function, apply_function_to_parents, start_generation, studEA, mutation_indexes, init_creator, init_oppositors, duplicates_oppositor, remove_duplicates_generation_step, revolution_oppositor, revolution_after_stagnation_step, revolution_part, population_initializer, stop_when_reached, callbacks, middle_callbacks, time_limit_secs, save_last_generation_as, seed)\u001b[0m\n\u001b[0;32m    771\u001b[0m time_counter \u001b[38;5;241m=\u001b[39m \u001b[38;5;241m0\u001b[39m\n\u001b[0;32m    773\u001b[0m \u001b[38;5;28;01mfor\u001b[39;00m p \u001b[38;5;129;01min\u001b[39;00m \u001b[38;5;28mrange\u001b[39m(\u001b[38;5;241m0\u001b[39m, real_pop_size):\n\u001b[0;32m    774\u001b[0m     \u001b[38;5;66;03m# simulation returns exception or func value -- check the time of evaluating\u001b[39;00m\n\u001b[1;32m--> 775\u001b[0m     value, eval_time \u001b[38;5;241m=\u001b[39m \u001b[38;5;28;43mself\u001b[39;49m\u001b[38;5;241;43m.\u001b[39;49m\u001b[43m_simulate\u001b[49m\u001b[43m(\u001b[49m\u001b[43mpop\u001b[49m\u001b[43m[\u001b[49m\u001b[43mp\u001b[49m\u001b[43m]\u001b[49m\u001b[43m)\u001b[49m\n\u001b[0;32m    776\u001b[0m     scores[p] \u001b[38;5;241m=\u001b[39m value\n\u001b[0;32m    777\u001b[0m     time_counter \u001b[38;5;241m+\u001b[39m\u001b[38;5;241m=\u001b[39m eval_time\n",
      "File \u001b[1;32m~\\anaconda3\\lib\\site-packages\\geneticalgorithm2\\geneticalgorithm2.py:382\u001b[0m, in \u001b[0;36mgeneticalgorithm2._simulate\u001b[1;34m(self, sample)\u001b[0m\n\u001b[0;32m    379\u001b[0m \u001b[38;5;28;01massert\u001b[39;00m obj \u001b[38;5;129;01mis\u001b[39;00m \u001b[38;5;129;01mnot\u001b[39;00m \u001b[38;5;28;01mNone\u001b[39;00m, \u001b[38;5;124mf\u001b[39m\u001b[38;5;124m\"\u001b[39m\u001b[38;5;124mthe given function was running like \u001b[39m\u001b[38;5;132;01m{\u001b[39;00meval_time\u001b[38;5;132;01m}\u001b[39;00m\u001b[38;5;124m seconds and does not provide any output\u001b[39m\u001b[38;5;124m\"\u001b[39m\n\u001b[0;32m    381\u001b[0m tp \u001b[38;5;241m=\u001b[39m \u001b[38;5;28mtype\u001b[39m(obj)\n\u001b[1;32m--> 382\u001b[0m \u001b[38;5;28;01massert\u001b[39;00m (tp \u001b[38;5;129;01min\u001b[39;00m (\u001b[38;5;28mint\u001b[39m, \u001b[38;5;28mfloat\u001b[39m) \u001b[38;5;129;01mor\u001b[39;00m np\u001b[38;5;241m.\u001b[39missubdtype(tp, np\u001b[38;5;241m.\u001b[39mfloating) \u001b[38;5;129;01mor\u001b[39;00m np\u001b[38;5;241m.\u001b[39missubdtype(tp,\n\u001b[0;32m    383\u001b[0m                                                                               np\u001b[38;5;241m.\u001b[39minteger)), \u001b[38;5;124mf\u001b[39m\u001b[38;5;124m\"\u001b[39m\u001b[38;5;124mMinimized function should return a number, but got \u001b[39m\u001b[38;5;124m'\u001b[39m\u001b[38;5;132;01m{\u001b[39;00mobj\u001b[38;5;132;01m}\u001b[39;00m\u001b[38;5;124m'\u001b[39m\u001b[38;5;124m object with type \u001b[39m\u001b[38;5;132;01m{\u001b[39;00mtp\u001b[38;5;132;01m}\u001b[39;00m\u001b[38;5;124m\"\u001b[39m\n\u001b[0;32m    385\u001b[0m \u001b[38;5;28;01mreturn\u001b[39;00m obj, eval_time\n",
      "\u001b[1;31mAssertionError\u001b[0m: Minimized function should return a number, but got '[56821.98926316]' object with type <class 'numpy.ndarray'>"
     ]
    }
   ],
   "source": [
    "import time\n",
    "\n",
    "#              B34      B38     B48      B58      B42      B52\n",
    "varbound = [[218,315],[0,315],[0,210],[0,157.5],[0,210],[0,157.5]]\n",
    "\n",
    "model=ga(function=f,dimension=6,variable_type='real',variable_boundaries=varbound, algorithm_parameters=algorithm_param)\n",
    "\n",
    "result = model.run()"
   ]
  },
  {
   "cell_type": "code",
   "execution_count": null,
   "id": "42d431ba-f28e-4932-ae47-68952ab48a40",
   "metadata": {},
   "outputs": [],
   "source": []
  }
 ],
 "metadata": {
  "kernelspec": {
   "display_name": "Python 3 (ipykernel)",
   "language": "python",
   "name": "python3"
  },
  "language_info": {
   "codemirror_mode": {
    "name": "ipython",
    "version": 3
   },
   "file_extension": ".py",
   "mimetype": "text/x-python",
   "name": "python",
   "nbconvert_exporter": "python",
   "pygments_lexer": "ipython3",
   "version": "3.9.12"
  }
 },
 "nbformat": 4,
 "nbformat_minor": 5
}
