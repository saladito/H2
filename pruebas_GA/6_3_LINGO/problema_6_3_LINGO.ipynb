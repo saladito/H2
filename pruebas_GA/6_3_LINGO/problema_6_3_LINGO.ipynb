{
 "cells": [
  {
   "cell_type": "code",
   "execution_count": 9,
   "id": "a015ba98-ab11-4e69-9f7a-7267927f8e76",
   "metadata": {},
   "outputs": [],
   "source": [
    "import numpy as np\n",
    "import math\n",
    "import pandas as pd\n",
    "\n",
    "from geneticalgorithm2 import geneticalgorithm2 as ga # for creating and running optimization mode\n",
    "from geneticalgorithm2 import Generation, AlgorithmParams # classes for comfortable parameters setting and getting\n",
    "from geneticalgorithm2 import Crossover, Mutations, Selection # classes for specific mutation and crossover behavior\n",
    "from geneticalgorithm2 import Population_initializer # for creating better start population\n",
    "from geneticalgorithm2 import np_lru_cache # for cache function (if u want)\n",
    "from geneticalgorithm2 import plot_pop_scores # for plotting population scores, if u want\n",
    "from geneticalgorithm2 import Actions, ActionConditions, MiddleCallbacks # middle callbacks"
   ]
  },
  {
   "cell_type": "code",
   "execution_count": 22,
   "id": "d85fbb4f-8c9d-4bbc-ab29-fff34322a800",
   "metadata": {},
   "outputs": [],
   "source": [
    " #read the csv file (put 'r' before the path string to address any special characters in the path, such as '\\'). Don't forget to put the file name at the end of the path + \".csv\"\n",
    "data = pd.read_csv ('data_6_3_LINGO.csv')\n",
    "df = pd.DataFrame(data)\n",
    "\n",
    "b3 = df[[\"B3\"]].to_numpy()\n",
    "b4 = df[[\"B4\"]].to_numpy()\n",
    "b5 = df[[\"B5\"]].to_numpy()\n",
    "\n",
    "# profit contribution per 1000 feet\n",
    "profits = [15.89, 17.89, 16.5, 15.22, 17.5, 16.22]\n",
    "\n",
    "cota_maxima_benef = profits[0]*315 + profits[1]*315 + profits[2]*210 + profits[3]*157.5 + profits[4]*210 + profits[5]*157.5\n",
    "cota_maxima_1000s = 315+315+210+157.5+210+157.5"
   ]
  },
  {
   "cell_type": "code",
   "execution_count": 86,
   "id": "980a035e-00b0-4e5b-af1b-e48b7572dd49",
   "metadata": {},
   "outputs": [],
   "source": [
    "def f(X):\n",
    "    pen = 0\n",
    "    if 1000/(b3[0]*60)*X[0] + 1000/(b3[0]*60)*X[1] > b3[1]:\n",
    "        pen += cota_maxima_benef + 10000*(1000/(b3[0]*60)*X[0] + 1000/(b3[0]*60)*X[1] - b3[1])\n",
    "    if 1000/(b4[0]*60)*X[2] + 1000/(b4[0]*60)*X[4] > b4[1]:\n",
    "        pen += cota_maxima_benef + 10000*(1000/(b4[0]*60)*X[2] + 1000/(b4[0]*60)*X[4] - b4[1])\n",
    "    if 1000/(b5[0]*60)*X[3] + 1000/(b5[0]*60)*X[5] > b5[1]:\n",
    "        pen += cota_maxima_benef + 10000*(1000/(b5[0]*60)*X[3] + 1000/(b5[0]*60)*X[5] - b5[1])\n",
    "    if X[0]+X[1]+X[2]+X[3]+X[4]+X[5] > 600:\n",
    "        pen += cota_maxima_benef + 10000*(X[0]+X[1]+X[2]+X[3]+X[4]+X[5] - 600)\n",
    "    if X[1] + X[2] + X[3] < 114:\n",
    "        pen += (315+210+157.5) + 10000*abs(X[1] + X[2] + X[3] - 114)\n",
    "    if X[4] + X[5] < 111:\n",
    "        pen += (210+157.5) + 10000*abs(X[4] + X[5] - 111)\n",
    "        \n",
    "    res = int(profits[0]*X[0]) + int(profits[1]*X[1]) + int(profits[2]*X[2]) + int(profits[3]*X[3]) + int(profits[4]*X[4]) + int(profits[5]*X[5]) - int(pen)\n",
    "    return -res\n",
    "    "
   ]
  },
  {
   "cell_type": "code",
   "execution_count": 99,
   "id": "1cfb0fa8-ce34-4ddb-a6ab-1ecedf2c6503",
   "metadata": {},
   "outputs": [],
   "source": [
    "algorithm_param = {'max_num_iteration': 6000,\\\n",
    "                   'population_size': 200,\\\n",
    "                   'mutation_probability':0.5,\\\n",
    "                   'elit_ratio': 0.0,\\\n",
    "                   'parents_portion': 0.3,\\\n",
    "                   'crossover_type':'one_point',\\\n",
    "                   'mutation_type':'gauss_by_center',\\\n",
    "                   'selection_type':'tournament',\\\n",
    "                   'max_iteration_without_improv':None}"
   ]
  },
  {
   "cell_type": "code",
   "execution_count": 100,
   "id": "7b37475b-81ff-40e7-b158-ade114421ce6",
   "metadata": {},
   "outputs": [
    {
     "name": "stdout",
     "output_type": "stream",
     "text": [
      "\n",
      "Average time of function evaluating (secs): 0.0005010032653808594 (total = 0.10020065307617188)\n",
      "\n",
      "Best score before optimization: -8078.0\n",
      "                                                                                                                                                                                                        \n",
      " The best found solution:\n",
      " [221.85320091  93.0527165   16.01952624   7.16389183 193.7009004\n",
      "  68.17439637]\n",
      "\n",
      " Objective function:\n",
      " -10056.0\n",
      "\n",
      " Used generations: 6000\n",
      " Used time: 139 seconds\n"
     ]
    },
    {
     "data": {
      "image/png": "[encoded data removed]",
      "text/plain": [
       "<Figure size 432x288 with 1 Axes>"
      ]
     },
     "metadata": {
      "needs_background": "light"
     },
     "output_type": "display_data"
    }
   ],
   "source": [
    "import time\n",
    "\n",
    "#              B34      B38     B48      B58      B42      B52\n",
    "varbound = [[218,315],[0,315],[0,210],[0,157.5],[0,210],[0,157.5]]\n",
    "\n",
    "model=ga(function=f,dimension=6,variable_type='real',variable_boundaries=varbound, algorithm_parameters=algorithm_param)\n",
    "\n",
    "result = model.run()"
   ]
  },
  {
   "cell_type": "markdown",
   "id": "5d8d30a2-6a9e-414f-8f94-f0f9a23c2e6f",
   "metadata": {},
   "source": [
    "## Aplicar descenso de gradiente"
   ]
  },
  {
   "cell_type": "code",
   "execution_count": 101,
   "id": "2ba49e97-0a70-4914-bb0d-50541a191c91",
   "metadata": {},
   "outputs": [],
   "source": [
    "import matplotlib\n",
    "import matplotlib.pyplot as plt\n",
    "import sklearn.datasets as dt\n",
    "from sklearn.model_selection import train_test_split"
   ]
  },
  {
   "cell_type": "code",
   "execution_count": null,
   "id": "35eb40ef-553f-431d-bd58-ed31cb8cc0e6",
   "metadata": {},
   "outputs": [],
   "source": [
    "# Make threshold a -ve value if you want to run exactly\n",
    "# max_iterations.\n",
    "def gradient_descent(max_iterations,threshold,w_init,\n",
    "                     obj_func,grad_func,extra_param = [],\n",
    "                     learning_rate=0.05,momentum=0.8):\n",
    "    \n",
    "    w = w_init\n",
    "    w_history = w\n",
    "    f_history = obj_func(w,extra_param)\n",
    "    delta_w = np.zeros(w.shape)\n",
    "    i = 0\n",
    "    diff = 1.0e10\n",
    "    \n",
    "    while  i<max_iterations and diff>threshold:\n",
    "        delta_w = -learning_rate*grad_func(w,extra_param) + momentum*delta_w\n",
    "        w = w+delta_w\n",
    "        \n",
    "        # store the history of w and f\n",
    "        w_history = np.vstack((w_history,w))\n",
    "        f_history = np.vstack((f_history,obj_func(w,extra_param)))\n",
    "        \n",
    "        # update iteration number and diff between successive values\n",
    "        # of objective function\n",
    "        i+=1\n",
    "        diff = np.absolute(f_history[-1]-f_history[-2])\n",
    "    \n",
    "    return w_history,f_history"
   ]
  }
 ],
 "metadata": {
  "kernelspec": {
   "display_name": "Python 3 (ipykernel)",
   "language": "python",
   "name": "python3"
  },
  "language_info": {
   "codemirror_mode": {
    "name": "ipython",
    "version": 3
   },
   "file_extension": ".py",
   "mimetype": "text/x-python",
   "name": "python",
   "nbconvert_exporter": "python",
   "pygments_lexer": "ipython3",
   "version": "3.9.12"
  }
 },
 "nbformat": 4,
 "nbformat_minor": 5
}
