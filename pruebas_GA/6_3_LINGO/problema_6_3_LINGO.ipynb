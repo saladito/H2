{
 "cells": [
  {
   "cell_type": "code",
   "execution_count": 6,
   "id": "a015ba98-ab11-4e69-9f7a-7267927f8e76",
   "metadata": {},
   "outputs": [],
   "source": [
    "import numpy as np\n",
    "import math\n",
    "import pandas as pd\n",
    "\n",
    "from geneticalgorithm2 import geneticalgorithm2 as ga # for creating and running optimization mode\n",
    "from geneticalgorithm2 import Generation, AlgorithmParams # classes for comfortable parameters setting and getting\n",
    "from geneticalgorithm2 import Crossover, Mutations, Selection # classes for specific mutation and crossover behavior\n",
    "from geneticalgorithm2 import Population_initializer # for creating better start population\n",
    "from geneticalgorithm2 import np_lru_cache # for cache function (if u want)\n",
    "from geneticalgorithm2 import plot_pop_scores # for plotting population scores, if u want\n",
    "from geneticalgorithm2 import Actions, ActionConditions, MiddleCallbacks # middle callbacks"
   ]
  },
  {
   "cell_type": "code",
   "execution_count": 7,
   "id": "d85fbb4f-8c9d-4bbc-ab29-fff34322a800",
   "metadata": {},
   "outputs": [],
   "source": [
    " #read the csv file (put 'r' before the path string to address any special characters in the path, such as '\\'). Don't forget to put the file name at the end of the path + \".csv\"\n",
    "data = pd.read_csv ('data_6_3_LINGO.csv')\n",
    "df = pd.DataFrame(data)\n",
    "\n",
    "b3 = df[[\"B3\"]].to_numpy()\n",
    "b4 = df[[\"B4\"]].to_numpy()\n",
    "b5 = df[[\"B5\"]].to_numpy()\n",
    "\n",
    "# profit contribution per 1000 feet\n",
    "profits = [15.89, 17.89, 16.5, 15.22, 17.5, 16.22]\n",
    "\n",
    "cota_maxima_benef = profits[0]*315 + profits[1]*315 + profits[2]*210 + profits[3]*157.5 + profits[4]*210 + profits[5]*157.5\n",
    "cota_maxima_1000s = 315+315+210+157.5+210+157.5"
   ]
  },
  {
   "cell_type": "code",
   "execution_count": 27,
   "id": "980a035e-00b0-4e5b-af1b-e48b7572dd49",
   "metadata": {},
   "outputs": [],
   "source": [
    "def f(X):\n",
    "    pen = 0\n",
    "    if 1000/(b3[0]*60)*X[0] + 1000/(b3[0]*60)*X[1] > b3[1]:\n",
    "        pen += cota_maxima_benef + 10000*(1000/(b3[0]*60)*X[0] + 1000/(b3[0]*60)*X[1] - b3[1])\n",
    "    if 1000/(b4[0]*60)*X[2] + 1000/(b4[0]*60)*X[4] > b4[1]:\n",
    "        pen += cota_maxima_benef + 10000*(1000/(b4[0]*60)*X[2] + 1000/(b4[0]*60)*X[4] - b4[1])\n",
    "    if 1000/(b5[0]*60)*X[3] + 1000/(b5[0]*60)*X[5] > b5[1]:\n",
    "        pen += cota_maxima_benef + 10000*(1000/(b5[0]*60)*X[3] + 1000/(b5[0]*60)*X[5] - b5[1])\n",
    "    if X[0]+X[1]+X[2]+X[3]+X[4]+X[5] > 600:\n",
    "        pen += cota_maxima_benef + 10000*(X[0]+X[1]+X[2]+X[3]+X[4]+X[5] - 600)\n",
    "    if X[1] + X[2] + X[3] < 114:\n",
    "        pen += (315+210+157.5) + 10000*abs(X[1] + X[2] + X[3] - 114)\n",
    "    if X[4] + X[5] < 111:\n",
    "        pen += (210+157.5) + 10000*abs(X[4] + X[5] - 111)\n",
    "        \n",
    "    res = float(profits[0]*X[0]) + float(profits[1]*X[1]) + float(profits[2]*X[2]) + float(profits[3]*X[3]) + float(profits[4]*X[4]) + float(profits[5]*X[5]) - float(pen)\n",
    "    return -res\n",
    "    "
   ]
  },
  {
   "cell_type": "code",
   "execution_count": 28,
   "id": "1cfb0fa8-ce34-4ddb-a6ab-1ecedf2c6503",
   "metadata": {},
   "outputs": [],
   "source": [
    "algorithm_param = {'max_num_iteration': 1000,\\\n",
    "                   'population_size': 1000,\\\n",
    "                   'mutation_probability':0.5,\\\n",
    "                   'elit_ratio': 0.0,\\\n",
    "                   'parents_portion': 0.3,\\\n",
    "                   'crossover_type':'one_point',\\\n",
    "                   'mutation_type':'gauss_by_center',\\\n",
    "                   'selection_type':'tournament',\\\n",
    "                   'max_iteration_without_improv':None}"
   ]
  },
  {
   "cell_type": "code",
   "execution_count": 29,
   "id": "7b37475b-81ff-40e7-b158-ade114421ce6",
   "metadata": {},
   "outputs": [
    {
     "name": "stdout",
     "output_type": "stream",
     "text": [
      "\n",
      "Average time of function evaluating (secs): 0.0006999351978302002 (total = 0.6999351978302002)\n",
      "\n",
      "Best score before optimization: -9496.43719496096\n",
      "                                                                                                                                                                                                        \n",
      " The best found solution:\n",
      " [219.2279451   90.3445408   23.19531711   1.34354693 186.68153995\n",
      "  79.20042438]\n",
      "\n",
      " Objective function:\n",
      " -10054.52523159768\n",
      "\n",
      " Used generations: 1000\n",
      " Used time: 171 seconds\n"
     ]
    },
    {
     "data": {
      "image/png": "[encoded data removed]",
      "text/plain": [
       "<Figure size 432x288 with 1 Axes>"
      ]
     },
     "metadata": {
      "needs_background": "light"
     },
     "output_type": "display_data"
    }
   ],
   "source": [
    "import time\n",
    "\n",
    "#              B34      B38     B48      B58      B42      B52\n",
    "varbound = [[218,315],[0,315],[0,210],[0,157.5],[0,210],[0,157.5]]\n",
    "\n",
    "model=ga(function=f,dimension=6,variable_type='real',variable_boundaries=varbound, algorithm_parameters=algorithm_param)\n",
    "\n",
    "result = model.run()"
   ]
  },
  {
   "cell_type": "code",
   "execution_count": 43,
   "id": "f78c62a2-f9e2-44ef-a0ea-17170c5b1164",
   "metadata": {},
   "outputs": [
    {
     "name": "stdout",
     "output_type": "stream",
     "text": [
      "[inf inf inf inf inf inf]\n",
      "-10054.52523159768\n"
     ]
    }
   ],
   "source": [
    "print(result.variable)\n",
    "print(result.score)"
   ]
  },
  {
   "cell_type": "markdown",
   "id": "5d8d30a2-6a9e-414f-8f94-f0f9a23c2e6f",
   "metadata": {},
   "source": [
    "## Aplicar descenso de gradiente"
   ]
  },
  {
   "cell_type": "code",
   "execution_count": 47,
   "id": "cd4d9f9b-858d-4395-ab6a-d983ee2fb45e",
   "metadata": {},
   "outputs": [],
   "source": [
    "import pandas as pd\n",
    "import numpy as np\n",
    "import matplotlib.pyplot as plt\n",
    "import seaborn as sn\n",
    "\n",
    "X=result.variable\n",
    "Y=-result.score"
   ]
  },
  {
   "cell_type": "code",
   "execution_count": 48,
   "id": "2ba49e97-0a70-4914-bb0d-50541a191c91",
   "metadata": {},
   "outputs": [],
   "source": [
    "import random\n",
    "\n",
    "def initialize(dim):\n",
    "    b=random.random()\n",
    "    theta=np.random.rand(dim)\n",
    "    return b,theta\n",
    "    b,theta=initialize(6)\n",
    "    print(\"Bias: \",b,\"Weights: \",theta)"
   ]
  },
  {
   "cell_type": "code",
   "execution_count": 42,
   "id": "3fde37fb-09b1-4a65-9892-dc2ac252d714",
   "metadata": {},
   "outputs": [
    {
     "data": {
      "text/plain": [
       "(0.5014111055585944,\n",
       " array([0.0121269 , 0.88229668, 0.53064011, 0.11697884, 0.02985204,\n",
       "        0.63107848]))"
      ]
     },
     "execution_count": 42,
     "metadata": {},
     "output_type": "execute_result"
    }
   ],
   "source": [
    "initialize(6)"
   ]
  },
  {
   "cell_type": "code",
   "execution_count": 50,
   "id": "93479d74-4a23-4fa7-b187-0d01e74fe258",
   "metadata": {},
   "outputs": [],
   "source": [
    "def predict_Y(b,theta,X):\n",
    "    return b + np.dot(X,theta)"
   ]
  },
  {
   "cell_type": "code",
   "execution_count": 60,
   "id": "3ada62a7-303a-45df-ae3a-c6b49cea9f7d",
   "metadata": {},
   "outputs": [],
   "source": [
    "import math\n",
    "\n",
    "def get_cost(Y,Y_hat):\n",
    "    Y_resd=Y-Y_hat\n",
    "    return np.sum(np.dot(Y_resd.T,Y_resd))/Y.size"
   ]
  },
  {
   "cell_type": "code",
   "execution_count": 61,
   "id": "fdbabcef-160c-4763-91bf-347c6ef8193c",
   "metadata": {},
   "outputs": [],
   "source": [
    "def update_theta(x,y,y_hat,b_0,theta_o,learning_rate):\n",
    "    db=(np.sum(y_hat-y)*2)/len(y)\n",
    "    dw=(np.dot((y_hat-y),x)*2)/y.size\n",
    "    b_1=b_0-learning_rate*db\n",
    "    theta_1=theta_o-learning_rate*dw\n",
    "    return b_1,theta_1"
   ]
  },
  {
   "cell_type": "code",
   "execution_count": 62,
   "id": "5a8892f7-fe6f-49a7-b044-b369be9bcf03",
   "metadata": {},
   "outputs": [
    {
     "ename": "TypeError",
     "evalue": "object of type 'numpy.float64' has no len()",
     "output_type": "error",
     "traceback": [
      "\u001b[1;31m---------------------------------------------------------------------------\u001b[0m",
      "\u001b[1;31mTypeError\u001b[0m                                 Traceback (most recent call last)",
      "Input \u001b[1;32mIn [62]\u001b[0m, in \u001b[0;36m<cell line: 19>\u001b[1;34m()\u001b[0m\n\u001b[0;32m     16\u001b[0m     \u001b[38;5;28mprint\u001b[39m(\u001b[38;5;124m\"\u001b[39m\u001b[38;5;124mFinal Estimate of b and theta : \u001b[39m\u001b[38;5;124m\"\u001b[39m,b,theta)\n\u001b[0;32m     17\u001b[0m     \u001b[38;5;28;01mreturn\u001b[39;00m gd_iterations_df,b,theta\n\u001b[1;32m---> 19\u001b[0m gd_iterations_df,b,theta\u001b[38;5;241m=\u001b[39m\u001b[43mrun_gradient_descent\u001b[49m\u001b[43m(\u001b[49m\u001b[43mX\u001b[49m\u001b[43m,\u001b[49m\u001b[43mY\u001b[49m\u001b[43m,\u001b[49m\u001b[43malpha\u001b[49m\u001b[38;5;241;43m=\u001b[39;49m\u001b[38;5;241;43m0.001\u001b[39;49m\u001b[43m,\u001b[49m\u001b[43mnum_iterations\u001b[49m\u001b[38;5;241;43m=\u001b[39;49m\u001b[38;5;241;43m200\u001b[39;49m\u001b[43m)\u001b[49m\n",
      "Input \u001b[1;32mIn [62]\u001b[0m, in \u001b[0;36mrun_gradient_descent\u001b[1;34m(X, Y, alpha, num_iterations)\u001b[0m\n\u001b[0;32m      9\u001b[0m prev_b\u001b[38;5;241m=\u001b[39mb\n\u001b[0;32m     10\u001b[0m prev_theta\u001b[38;5;241m=\u001b[39mtheta\n\u001b[1;32m---> 11\u001b[0m b,theta\u001b[38;5;241m=\u001b[39m\u001b[43mupdate_theta\u001b[49m\u001b[43m(\u001b[49m\u001b[43mX\u001b[49m\u001b[43m,\u001b[49m\u001b[43mY\u001b[49m\u001b[43m,\u001b[49m\u001b[43mY_hat\u001b[49m\u001b[43m,\u001b[49m\u001b[43mprev_b\u001b[49m\u001b[43m,\u001b[49m\u001b[43mprev_theta\u001b[49m\u001b[43m,\u001b[49m\u001b[43malpha\u001b[49m\u001b[43m)\u001b[49m\n\u001b[0;32m     12\u001b[0m \u001b[38;5;28;01mif\u001b[39;00m(iter_num\u001b[38;5;241m%\u001b[39m\u001b[38;5;241m10\u001b[39m\u001b[38;5;241m==\u001b[39m\u001b[38;5;241m0\u001b[39m):\n\u001b[0;32m     13\u001b[0m     gd_iterations_df\u001b[38;5;241m.\u001b[39mloc[result_idx]\u001b[38;5;241m=\u001b[39m[iter_num,this_cost]\n",
      "Input \u001b[1;32mIn [61]\u001b[0m, in \u001b[0;36mupdate_theta\u001b[1;34m(x, y, y_hat, b_0, theta_o, learning_rate)\u001b[0m\n\u001b[0;32m      1\u001b[0m \u001b[38;5;28;01mdef\u001b[39;00m \u001b[38;5;21mupdate_theta\u001b[39m(x,y,y_hat,b_0,theta_o,learning_rate):\n\u001b[1;32m----> 2\u001b[0m     db\u001b[38;5;241m=\u001b[39m(np\u001b[38;5;241m.\u001b[39msum(y_hat\u001b[38;5;241m-\u001b[39my)\u001b[38;5;241m*\u001b[39m\u001b[38;5;241m2\u001b[39m)\u001b[38;5;241m/\u001b[39m\u001b[38;5;28;43mlen\u001b[39;49m\u001b[43m(\u001b[49m\u001b[43my\u001b[49m\u001b[43m)\u001b[49m\n\u001b[0;32m      3\u001b[0m     dw\u001b[38;5;241m=\u001b[39m(np\u001b[38;5;241m.\u001b[39mdot((y_hat\u001b[38;5;241m-\u001b[39my),x)\u001b[38;5;241m*\u001b[39m\u001b[38;5;241m2\u001b[39m)\u001b[38;5;241m/\u001b[39m\u001b[38;5;28mlen\u001b[39m(y)\n\u001b[0;32m      4\u001b[0m     b_1\u001b[38;5;241m=\u001b[39mb_0\u001b[38;5;241m-\u001b[39mlearning_rate\u001b[38;5;241m*\u001b[39mdb\n",
      "\u001b[1;31mTypeError\u001b[0m: object of type 'numpy.float64' has no len()"
     ]
    }
   ],
   "source": [
    "def run_gradient_descent(X,Y,alpha,num_iterations):\n",
    "    b,theta=initialize(X.size)\n",
    "    iter_num=0\n",
    "    gd_iterations_df=pd.DataFrame(columns=['iteration','cost'])\n",
    "    result_idx=0\n",
    "    for each_iter in range(num_iterations):\n",
    "        Y_hat=predict_Y(b,theta,X)\n",
    "        this_cost=get_cost(Y,Y_hat)\n",
    "        prev_b=b\n",
    "        prev_theta=theta\n",
    "        b,theta=update_theta(X,Y,Y_hat,prev_b,prev_theta,alpha)\n",
    "        if(iter_num%10==0):\n",
    "            gd_iterations_df.loc[result_idx]=[iter_num,this_cost]\n",
    "        result_idx=result_idx+1\n",
    "        iter_num +=1\n",
    "    print(\"Final Estimate of b and theta : \",b,theta)\n",
    "    return gd_iterations_df,b,theta\n",
    "\n",
    "gd_iterations_df,b,theta=run_gradient_descent(X,Y,alpha=0.001,num_iterations=200)"
   ]
  },
  {
   "cell_type": "code",
   "execution_count": null,
   "id": "d776dfe4-18a1-4978-8b09-5e0e96120957",
   "metadata": {},
   "outputs": [],
   "source": []
  }
 ],
 "metadata": {
  "kernelspec": {
   "display_name": "Python 3 (ipykernel)",
   "language": "python",
   "name": "python3"
  },
  "language_info": {
   "codemirror_mode": {
    "name": "ipython",
    "version": 3
   },
   "file_extension": ".py",
   "mimetype": "text/x-python",
   "name": "python",
   "nbconvert_exporter": "python",
   "pygments_lexer": "ipython3",
   "version": "3.9.12"
  }
 },
 "nbformat": 4,
 "nbformat_minor": 5
}
