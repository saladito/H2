{
 "cells": [
  {
   "cell_type": "code",
   "execution_count": 21,
   "id": "a015ba98-ab11-4e69-9f7a-7267927f8e76",
   "metadata": {},
   "outputs": [],
   "source": [
    "import numpy as np\n",
    "import math\n",
    "import pandas as pd\n",
    "from geneticalgorithm import geneticalgorithm as ga"
   ]
  },
  {
   "cell_type": "code",
   "execution_count": 41,
   "id": "e51c62f0-17a7-484b-8b42-93e3b4432900",
   "metadata": {},
   "outputs": [
    {
     "name": "stdout",
     "output_type": "stream",
     "text": [
      "     Año  Mes  Día  Hora  Coste1  Coste2\n",
      "0   2022    7    7     1  155.06  155.06\n",
      "1   2022    7    7     2  131.00  131.00\n",
      "2   2022    7    7     3  116.45  116.45\n",
      "3   2022    7    7     4  115.55  115.55\n",
      "4   2022    7    7     5  114.99  114.99\n",
      "5   2022    7    7     6  114.99  114.99\n",
      "6   2022    7    7     7  115.55  115.55\n",
      "7   2022    7    7     8  120.00  120.00\n",
      "8   2022    7    7     9  115.55  115.55\n",
      "9   2022    7    7    10  110.00  110.00\n",
      "10  2022    7    7    11  111.05  111.05\n",
      "11  2022    7    7    12  112.22  112.22\n",
      "12  2022    7    7    13  114.95  114.95\n",
      "13  2022    7    7    14  115.55  115.55\n",
      "14  2022    7    7    15  115.95  115.95\n",
      "15  2022    7    7    16  115.55  114.99\n",
      "16  2022    7    7    17  117.66  113.51\n",
      "17  2022    7    7    18  115.55  112.55\n",
      "18  2022    7    7    19  115.55  108.01\n",
      "19  2022    7    7    20  115.55  115.55\n",
      "20  2022    7    7    21  151.81  151.81\n",
      "21  2022    7    7    22  169.00  169.00\n",
      "22  2022    7    7    23  169.00  169.00\n",
      "23  2022    7    7    24  149.59  149.59\n"
     ]
    }
   ],
   "source": [
    " #read the csv file (put 'r' before the path string to address any special characters in the path, such as '\\'). Don't forget to put the file name at the end of the path + \".csv\"\n",
    "data = pd.read_csv ('marginalpdbc_20220707.csv')\n",
    "df = pd.DataFrame(data)\n",
    "print(df)"
   ]
  },
  {
   "cell_type": "code",
   "execution_count": 42,
   "id": "3bdc5197-52f6-4df8-bff7-c52460d95081",
   "metadata": {},
   "outputs": [],
   "source": [
    "s_array = df[[\"Hora\",\"Coste1\"]].to_numpy()"
   ]
  },
  {
   "cell_type": "code",
   "execution_count": 52,
   "id": "980a035e-00b0-4e5b-af1b-e48b7572dd49",
   "metadata": {},
   "outputs": [],
   "source": [
    "def f(X):\n",
    "    return s_array[int(X[0]-1),1]"
   ]
  },
  {
   "cell_type": "code",
   "execution_count": 53,
   "id": "1cfb0fa8-ce34-4ddb-a6ab-1ecedf2c6503",
   "metadata": {},
   "outputs": [],
   "source": [
    "algorithm_param = {'max_num_iteration': 100,\\\n",
    "                   'population_size': 100,\\\n",
    "                   'mutation_probability':0.1,\\\n",
    "                   'elit_ratio': 0.01,\\\n",
    "                   'crossover_probability': 0.5,\\\n",
    "                   'parents_portion': 0.3,\\\n",
    "                   'crossover_type':'one_point',\\\n",
    "                   'max_iteration_without_improv': 100}"
   ]
  },
  {
   "cell_type": "code",
   "execution_count": 54,
   "id": "7b37475b-81ff-40e7-b158-ade114421ce6",
   "metadata": {
    "tags": []
   },
   "outputs": [
    {
     "name": "stdout",
     "output_type": "stream",
     "text": [
      " The best solution found:                                                                           \n",
      " [10.]\n",
      "\n",
      " Objective function:\n",
      " 110.0\n"
     ]
    },
    {
     "data": {
      "image/png": "[encoded data removed]",
      "text/plain": [
       "<Figure size 432x288 with 1 Axes>"
      ]
     },
     "metadata": {
      "needs_background": "light"
     },
     "output_type": "display_data"
    },
    {
     "name": "stdout",
     "output_type": "stream",
     "text": [
      "\n",
      "Tiempo de ejecución: 12.69835 s\n"
     ]
    }
   ],
   "source": [
    "import time\n",
    "varbound=np.array([[1,24]])\n",
    "\n",
    "model=ga(function=f,dimension=1,variable_type='int',variable_boundaries=varbound, algorithm_parameters=algorithm_param)\n",
    "\n",
    "start = time.time() \n",
    "model.run()\n",
    "end = time.time()\n",
    "\n",
    "t = round(end-start, 5)\n",
    "print(f'\\nTiempo de ejecución: {t} s')"
   ]
  },
  {
   "cell_type": "code",
   "execution_count": null,
   "id": "5c949f52-e91f-4bd5-9174-eba1ce4f763e",
   "metadata": {},
   "outputs": [],
   "source": []
  }
 ],
 "metadata": {
  "kernelspec": {
   "display_name": "Python 3 (ipykernel)",
   "language": "python",
   "name": "python3"
  },
  "language_info": {
   "codemirror_mode": {
    "name": "ipython",
    "version": 3
   },
   "file_extension": ".py",
   "mimetype": "text/x-python",
   "name": "python",
   "nbconvert_exporter": "python",
   "pygments_lexer": "ipython3",
   "version": "3.9.12"
  },
  "toc-autonumbering": true
 },
 "nbformat": 4,
 "nbformat_minor": 5
}
