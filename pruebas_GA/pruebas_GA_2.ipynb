{
 "cells": [
  {
   "cell_type": "code",
   "execution_count": 17,
   "id": "a015ba98-ab11-4e69-9f7a-7267927f8e76",
   "metadata": {},
   "outputs": [],
   "source": [
    "import numpy as np\n",
    "import math\n",
    "\n",
    "from geneticalgorithm2 import geneticalgorithm2 as ga # for creating and running optimization mode\n",
    "from geneticalgorithm2 import Generation, AlgorithmParams # classes for comfortable parameters setting and getting\n",
    "from geneticalgorithm2 import Crossover, Mutations, Selection # classes for specific mutation and crossover behavior\n",
    "from geneticalgorithm2 import Population_initializer # for creating better start population\n",
    "from geneticalgorithm2 import np_lru_cache # for cache function (if u want)\n",
    "from geneticalgorithm2 import plot_pop_scores # for plotting population scores, if u want\n",
    "from geneticalgorithm2 import Actions, ActionConditions, MiddleCallbacks # middle callbacks"
   ]
  },
  {
   "cell_type": "code",
   "execution_count": 18,
   "id": "980a035e-00b0-4e5b-af1b-e48b7572dd49",
   "metadata": {},
   "outputs": [],
   "source": [
    "def f(X):\n",
    "\n",
    "    dim=len(X) \n",
    "\n",
    "    a=0.5\n",
    "    b=3\n",
    "    OF=0\n",
    "    for i in range (0,dim):\n",
    "        t1=0\n",
    "        for k in range (0,21):\n",
    "            t1+=(a**k)*math.cos((2*math.pi*(b**k))*(X[i]+0.5))\n",
    "        OF+=t1\n",
    "    t2=0    \n",
    "    for k in range (0,21):\n",
    "        t2+=(a**k)*math.cos(math.pi*(b**k))\n",
    "    OF-=dim*t2\n",
    "\n",
    "    return OF"
   ]
  },
  {
   "cell_type": "code",
   "execution_count": 40,
   "id": "1cfb0fa8-ce34-4ddb-a6ab-1ecedf2c6503",
   "metadata": {},
   "outputs": [],
   "source": [
    "algorithm_param = {'max_num_iteration': 500,\\\n",
    "                   'population_size':1000,\\\n",
    "                   'mutation_probability':0.1,\\\n",
    "                   'elit_ratio': 0.01,\\\n",
    "                   'parents_portion': 0.3,\\\n",
    "                   'crossover_type':'one_point',\\\n",
    "                   'mutation_type':'uniform_by_center',\\\n",
    "                   'selection_type':'roulette',\\\n",
    "                   'max_iteration_without_improv':500}"
   ]
  },
  {
   "cell_type": "code",
   "execution_count": 42,
   "id": "7b37475b-81ff-40e7-b158-ade114421ce6",
   "metadata": {},
   "outputs": [
    {
     "name": "stdout",
     "output_type": "stream",
     "text": [
      "\n",
      "Average time of function evaluating (secs): 0.0005387520790100098 (total = 0.5387520790100098)\n",
      "\n",
      "Best score before optimization: 4.75832818224824\n",
      "                                                                                                                                                                                                        \n",
      " The best found solution:\n",
      " [ 1.00002881 -4.99997913  4.00001451 -0.99996932 -1.99999923  2.0000131 ]\n",
      "\n",
      " Objective function:\n",
      " 0.035559102941462584\n",
      "\n",
      " Used generations: 500\n",
      " Used time: 69.8 seconds\n"
     ]
    },
    {
     "data": {
      "image/png": "[encoded data removed]",
      "text/plain": [
       "<Figure size 432x288 with 1 Axes>"
      ]
     },
     "metadata": {
      "needs_background": "light"
     },
     "output_type": "display_data"
    },
    {
     "name": "stdout",
     "output_type": "stream",
     "text": [
      "\n",
      "Tiempo de ejecución: 69.89602 s\n"
     ]
    }
   ],
   "source": [
    "import time\n",
    "\n",
    "varbound=np.array([[-5.0,5.0]]*6)\n",
    "\n",
    "model=ga(function=f,dimension=6,variable_type='real',variable_boundaries=varbound, algorithm_parameters=algorithm_param)\n",
    "\n",
    "start = time.time() \n",
    "result = model.run(studEA = True)\n",
    "end = time.time()\n",
    "\n",
    "t = round(end-start, 5)\n",
    "print(f'\\nTiempo de ejecución: {t} s')"
   ]
  },
  {
   "cell_type": "code",
   "execution_count": null,
   "id": "42d431ba-f28e-4932-ae47-68952ab48a40",
   "metadata": {},
   "outputs": [],
   "source": []
  }
 ],
 "metadata": {
  "kernelspec": {
   "display_name": "Python 3 (ipykernel)",
   "language": "python",
   "name": "python3"
  },
  "language_info": {
   "codemirror_mode": {
    "name": "ipython",
    "version": 3
   },
   "file_extension": ".py",
   "mimetype": "text/x-python",
   "name": "python",
   "nbconvert_exporter": "python",
   "pygments_lexer": "ipython3",
   "version": "3.9.12"
  }
 },
 "nbformat": 4,
 "nbformat_minor": 5
}
