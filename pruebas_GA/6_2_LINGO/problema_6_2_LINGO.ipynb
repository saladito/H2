{
 "cells": [
  {
   "cell_type": "code",
   "execution_count": 1,
   "id": "a015ba98-ab11-4e69-9f7a-7267927f8e76",
   "metadata": {},
   "outputs": [],
   "source": [
    "import numpy as np\n",
    "import math\n",
    "\n",
    "from geneticalgorithm2 import geneticalgorithm2 as ga # for creating and running optimization mode\n",
    "from geneticalgorithm2 import Generation, AlgorithmParams # classes for comfortable parameters setting and getting\n",
    "from geneticalgorithm2 import Crossover, Mutations, Selection # classes for specific mutation and crossover behavior\n",
    "from geneticalgorithm2 import Population_initializer # for creating better start population\n",
    "from geneticalgorithm2 import np_lru_cache # for cache function (if u want)\n",
    "from geneticalgorithm2 import plot_pop_scores # for plotting population scores, if u want\n",
    "from geneticalgorithm2 import Actions, ActionConditions, MiddleCallbacks # middle callbacks"
   ]
  },
  {
   "cell_type": "code",
   "execution_count": 2,
   "id": "980a035e-00b0-4e5b-af1b-e48b7572dd49",
   "metadata": {},
   "outputs": [],
   "source": [
    "def f(X):\n",
    "    pen=0\n",
    "    if (12*X[0] + 7*X[1] + 8*X[2] + 10*X[3] + 10*X[4] + 7*X[5] + 7*X[6] - 60*X[7]) != 0:\n",
    "        pen += abs(12*X[0] + 7*X[1] + 8*X[2] + 10*X[3] + 10*X[4] + 7*X[5] + 7*X[6] - 60*X[7])\n",
    "    if (8*X[0] + 9*X[1] + 4*X[2] + 11*X[5] + 11*X[6] - 60*X[8]) != 0:\n",
    "        pen += abs(8*X[0] + 9*X[1] + 4*X[2] + 11*X[5] + 11*X[6] - 60*X[8])\n",
    "    if (5*X[0] + 10*X[1] + 7*X[2] + 3*X[3] + 3*X[4] + 2*X[5] + 2*X[6] - 60*X[9]) != 0:\n",
    "        pen += abs(5*X[0] + 10*X[1] + 7*X[2] + 3*X[3] + 3*X[4] + 2*X[5] + 2*X[6] - 60*X[9])\n",
    "    \n",
    "    res = 3*X[0] + 3*X[1] + 3*X[2] + 3*X[3] + 2*X[4] + 3*X[5] + 2*X[6] - 4*X[7] - 4*X[8] - 3*X[9] - pen\n",
    "    return -res\n"
   ]
  },
  {
   "cell_type": "code",
   "execution_count": 3,
   "id": "1cfb0fa8-ce34-4ddb-a6ab-1ecedf2c6503",
   "metadata": {},
   "outputs": [],
   "source": [
    "algorithm_param = {'max_num_iteration': 1000,\\\n",
    "                   'population_size': 5000,\\\n",
    "                   'mutation_probability':0.5,\\\n",
    "                   'elit_ratio': 0.01,\\\n",
    "                   'parents_portion': 0.3,\\\n",
    "                   'crossover_type':'one_point',\\\n",
    "                   'mutation_type':'gauss_by_center',\\\n",
    "                   'selection_type':'tournament',\\\n",
    "                   'max_iteration_without_improv':None}"
   ]
  },
  {
   "cell_type": "code",
   "execution_count": 8,
   "id": "7b37475b-81ff-40e7-b158-ade114421ce6",
   "metadata": {},
   "outputs": [
    {
     "name": "stdout",
     "output_type": "stream",
     "text": [
      "<class 'tuple'>\n",
      "\n",
      "Average time of function evaluating (secs): 0.0003264019012451172 (total = 1.632009506225586)\n",
      "\n",
      "Best score before optimization: 2395.956154898354\n",
      "____________________ 0.6% GA is running...6 gen from 1000...best value = -992.5867307089909"
     ]
    },
    {
     "ename": "KeyboardInterrupt",
     "evalue": "",
     "output_type": "error",
     "traceback": [
      "\u001b[1;31m---------------------------------------------------------------------------\u001b[0m",
      "\u001b[1;31mKeyboardInterrupt\u001b[0m                         Traceback (most recent call last)",
      "Input \u001b[1;32mIn [8]\u001b[0m, in \u001b[0;36m<cell line: 9>\u001b[1;34m()\u001b[0m\n\u001b[0;32m      7\u001b[0m model\u001b[38;5;241m=\u001b[39mga(function\u001b[38;5;241m=\u001b[39mf,dimension\u001b[38;5;241m=\u001b[39m\u001b[38;5;241m10\u001b[39m,variable_type\u001b[38;5;241m=\u001b[39mvartype,variable_boundaries\u001b[38;5;241m=\u001b[39mvarbound, algorithm_parameters\u001b[38;5;241m=\u001b[39malgorithm_param)\n\u001b[0;32m      8\u001b[0m \u001b[38;5;28mprint\u001b[39m(\u001b[38;5;28mtype\u001b[39m(vartype))\n\u001b[1;32m----> 9\u001b[0m result \u001b[38;5;241m=\u001b[39m \u001b[43mmodel\u001b[49m\u001b[38;5;241;43m.\u001b[39;49m\u001b[43mrun\u001b[49m\u001b[43m(\u001b[49m\u001b[43m)\u001b[49m\n",
      "File \u001b[1;32m~\\anaconda3\\lib\\site-packages\\geneticalgorithm2\\geneticalgorithm2.py:913\u001b[0m, in \u001b[0;36mgeneticalgorithm2.run\u001b[1;34m(self, no_plot, disable_printing, progress_bar_stream, disable_progress_bar, set_function, apply_function_to_parents, start_generation, studEA, mutation_indexes, init_creator, init_oppositors, duplicates_oppositor, remove_duplicates_generation_step, revolution_oppositor, revolution_after_stagnation_step, revolution_part, population_initializer, stop_when_reached, callbacks, middle_callbacks, time_limit_secs, save_last_generation_as, seed)\u001b[0m\n\u001b[0;32m    910\u001b[0m pop, scores \u001b[38;5;241m=\u001b[39m revolution(pop, scores, count_stagnation)\n\u001b[0;32m    912\u001b[0m \u001b[38;5;66;03m# make population better\u001b[39;00m\n\u001b[1;32m--> 913\u001b[0m args_to_sort \u001b[38;5;241m=\u001b[39m \u001b[43mscores\u001b[49m\u001b[38;5;241;43m.\u001b[39;49m\u001b[43margsort\u001b[49m\u001b[43m(\u001b[49m\u001b[43m)\u001b[49m\n\u001b[0;32m    914\u001b[0m pop \u001b[38;5;241m=\u001b[39m pop[args_to_sort]\n\u001b[0;32m    915\u001b[0m scores \u001b[38;5;241m=\u001b[39m scores[args_to_sort]\n",
      "\u001b[1;31mKeyboardInterrupt\u001b[0m: "
     ]
    }
   ],
   "source": [
    "import time\n",
    "\n",
    "#              A         B       C       D       D2      E       E2       M1      M2     M3\n",
    "varbound = [[0,1000],[0,1000],[0,1000],[0,20],[0,1000],[0,20],[0,1000],[0,128],[0,128],[0,128]]\n",
    "vartype = ('real', 'real', 'real', 'real', 'real', 'real', 'real', 'real', 'real', 'real')\n",
    "\n",
    "model=ga(function=f,dimension=10,variable_type=vartype,variable_boundaries=varbound, algorithm_parameters=algorithm_param)\n",
    "print(type(vartype))\n",
    "result = model.run()"
   ]
  },
  {
   "cell_type": "code",
   "execution_count": null,
   "id": "42d431ba-f28e-4932-ae47-68952ab48a40",
   "metadata": {},
   "outputs": [],
   "source": []
  }
 ],
 "metadata": {
  "kernelspec": {
   "display_name": "Python 3 (ipykernel)",
   "language": "python",
   "name": "python3"
  },
  "language_info": {
   "codemirror_mode": {
    "name": "ipython",
    "version": 3
   },
   "file_extension": ".py",
   "mimetype": "text/x-python",
   "name": "python",
   "nbconvert_exporter": "python",
   "pygments_lexer": "ipython3",
   "version": "3.9.12"
  }
 },
 "nbformat": 4,
 "nbformat_minor": 5
}
