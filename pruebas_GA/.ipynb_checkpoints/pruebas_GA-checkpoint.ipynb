{
 "cells": [
  {
   "cell_type": "code",
   "execution_count": 6,
   "id": "a015ba98-ab11-4e69-9f7a-7267927f8e76",
   "metadata": {},
   "outputs": [],
   "source": [
    "import numpy as np\n",
    "import math\n",
    "from geneticalgorithm import geneticalgorithm as ga"
   ]
  },
  {
   "cell_type": "code",
   "execution_count": 104,
   "id": "980a035e-00b0-4e5b-af1b-e48b7572dd49",
   "metadata": {},
   "outputs": [],
   "source": [
    "def f(X):\n",
    "\n",
    "    dim=len(X) \n",
    "\n",
    "    a=0.5\n",
    "    b=3\n",
    "    OF=0\n",
    "    for i in range (0,dim):\n",
    "        t1=0\n",
    "        for k in range (0,21):\n",
    "            t1+=(a**k)*math.cos((2*math.pi*(b**k))*(X[i]+0.5))\n",
    "        OF+=t1\n",
    "    t2=0    \n",
    "    for k in range (0,21):\n",
    "        t2+=(a**k)*math.cos(math.pi*(b**k))\n",
    "    OF-=dim*t2\n",
    "\n",
    "    return OF"
   ]
  },
  {
   "cell_type": "code",
   "execution_count": 113,
   "id": "1cfb0fa8-ce34-4ddb-a6ab-1ecedf2c6503",
   "metadata": {},
   "outputs": [],
   "source": [
    "algorithm_param = {'max_num_iteration': 1000,\\\n",
    "                   'population_size':500,\\\n",
    "                   'mutation_probability':0.1,\\\n",
    "                   'elit_ratio': 0.01,\\\n",
    "                   'crossover_probability': 0.5,\\\n",
    "                   'parents_portion': 0.3,\\\n",
    "                   'crossover_type':'one_point',\\\n",
    "                   'max_iteration_without_improv':100}"
   ]
  },
  {
   "cell_type": "code",
   "execution_count": 114,
   "id": "7b37475b-81ff-40e7-b158-ade114421ce6",
   "metadata": {},
   "outputs": [
    {
     "name": "stdout",
     "output_type": "stream",
     "text": [
      " The best solution found:                                                                           \n",
      " [ 2.99982668e+00 -1.00010168e+00 -3.99999441e+00  2.99988815e+00\n",
      " -1.00000560e+00  4.95045355e-05]\n",
      "\n",
      " Objective function:\n",
      " 0.07273511807683875\n"
     ]
    },
    {
     "data": {
      "image/png": "[encoded data removed]",
      "text/plain": [
       "<Figure size 432x288 with 1 Axes>"
      ]
     },
     "metadata": {
      "needs_background": "light"
     },
     "output_type": "display_data"
    },
    {
     "name": "stdout",
     "output_type": "stream",
     "text": [
      "\n",
      "Warning: GA is terminated due to the maximum number of iterations without improvement was met!\n",
      "Tiempo de ejecución: 122.77938 s\n"
     ]
    }
   ],
   "source": [
    "import time\n",
    "\n",
    "varbound=np.array([[-5.0,5.0]]*6)\n",
    "\n",
    "model=ga(function=f,dimension=6,variable_type='real',variable_boundaries=varbound, algorithm_parameters=algorithm_param)\n",
    "\n",
    "start = time.time() \n",
    "model.run()\n",
    "end = time.time()\n",
    "\n",
    "t = round(end-start, 5)\n",
    "print(f'\\nTiempo de ejecución: {t} s')"
   ]
  },
  {
   "cell_type": "code",
   "execution_count": null,
   "id": "526d86df-f8d8-48d4-a511-9f732d63a2bf",
   "metadata": {},
   "outputs": [],
   "source": []
  }
 ],
 "metadata": {
  "kernelspec": {
   "display_name": "Python 3 (ipykernel)",
   "language": "python",
   "name": "python3"
  },
  "language_info": {
   "codemirror_mode": {
    "name": "ipython",
    "version": 3
   },
   "file_extension": ".py",
   "mimetype": "text/x-python",
   "name": "python",
   "nbconvert_exporter": "python",
   "pygments_lexer": "ipython3",
   "version": "3.9.12"
  }
 },
 "nbformat": 4,
 "nbformat_minor": 5
}
