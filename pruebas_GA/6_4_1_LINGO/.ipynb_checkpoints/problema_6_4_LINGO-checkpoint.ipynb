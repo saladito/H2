{
 "cells": [
  {
   "cell_type": "code",
   "execution_count": 4,
   "id": "a015ba98-ab11-4e69-9f7a-7267927f8e76",
   "metadata": {},
   "outputs": [],
   "source": [
    "import numpy as np\n",
    "import math\n",
    "\n",
    "from geneticalgorithm2 import geneticalgorithm2 as ga # for creating and running optimization mode\n",
    "from geneticalgorithm2 import Generation, AlgorithmParams # classes for comfortable parameters setting and getting\n",
    "from geneticalgorithm2 import Crossover, Mutations, Selection # classes for specific mutation and crossover behavior\n",
    "from geneticalgorithm2 import Population_initializer # for creating better start population\n",
    "from geneticalgorithm2 import np_lru_cache # for cache function (if u want)\n",
    "from geneticalgorithm2 import plot_pop_scores # for plotting population scores, if u want\n",
    "from geneticalgorithm2 import Actions, ActionConditions, MiddleCallbacks # middle callbacks"
   ]
  },
  {
   "cell_type": "code",
   "execution_count": 109,
   "id": "980a035e-00b0-4e5b-af1b-e48b7572dd49",
   "metadata": {},
   "outputs": [],
   "source": [
    "def f(X):\n",
    "    pen=0\n",
    "    if (12*X[0] + 7*X[1] + 8*X[2] + 10*X[3] + 10*X[4] + 7*X[5] + 7*X[6] - 60*X[7]) != 0:\n",
    "        pen += abs(12*X[0] + 7*X[1] + 8*X[2] + 10*X[3] + 10*X[4] + 7*X[5] + 7*X[6] - 60*X[7])\n",
    "    if (8*X[0] + 9*X[1] + 4*X[2] + 11*X[5] + 11*X[6] - 60*X[8]) != 0:\n",
    "        pen += abs(8*X[0] + 9*X[1] + 4*X[2] + 11*X[5] + 11*X[6] - 60*X[8])\n",
    "    if (5*X[0] + 10*X[1] + 7*X[2] + 3*X[3] + 3*X[4] + 2*X[5] + 2*X[6] - 60*X[9]) != 0:\n",
    "        pen += abs(5*X[0] + 10*X[1] + 7*X[2] + 3*X[3] + 3*X[4] + 2*X[5] + 2*X[6] - 60*X[9])\n",
    "    \n",
    "    res = 3*X[0] + 3*X[1] + 3*X[2] + 3*X[3] + 2*X[4] + 3*X[5] + 2*X[6] - 4*X[7] - 4*X[8] - 3*X[9] - pen\n",
    "    return -res\n"
   ]
  },
  {
   "cell_type": "code",
   "execution_count": 114,
   "id": "1cfb0fa8-ce34-4ddb-a6ab-1ecedf2c6503",
   "metadata": {},
   "outputs": [],
   "source": [
    "algorithm_param = {'max_num_iteration': 1000,\\\n",
    "                   'population_size': 5000,\\\n",
    "                   'mutation_probability':0.5,\\\n",
    "                   'elit_ratio': 0.01,\\\n",
    "                   'parents_portion': 0.3,\\\n",
    "                   'crossover_type':'one_point',\\\n",
    "                   'mutation_type':'gauss_by_center',\\\n",
    "                   'selection_type':'tournament',\\\n",
    "                   'max_iteration_without_improv':None}"
   ]
  },
  {
   "cell_type": "code",
   "execution_count": 116,
   "id": "7b37475b-81ff-40e7-b158-ade114421ce6",
   "metadata": {},
   "outputs": [
    {
     "name": "stdout",
     "output_type": "stream",
     "text": [
      "\n",
      "Average time of function evaluating (secs): 0.00034383888244628907 (total = 1.7191944122314453)\n",
      "\n",
      "Best score before optimization: 1062.6486400618428\n",
      "||||||||||||||||||__ 92.4% GA is running...924 gen from 1000...best value = -1345.6835482580425"
     ]
    },
    {
     "ename": "KeyboardInterrupt",
     "evalue": "",
     "output_type": "error",
     "traceback": [
      "\u001b[1;31m---------------------------------------------------------------------------\u001b[0m",
      "\u001b[1;31mKeyboardInterrupt\u001b[0m                         Traceback (most recent call last)",
      "Input \u001b[1;32mIn [116]\u001b[0m, in \u001b[0;36m<cell line: 9>\u001b[1;34m()\u001b[0m\n\u001b[0;32m      5\u001b[0m vartype \u001b[38;5;241m=\u001b[39m (\u001b[38;5;124m'\u001b[39m\u001b[38;5;124mreal\u001b[39m\u001b[38;5;124m'\u001b[39m, \u001b[38;5;124m'\u001b[39m\u001b[38;5;124mreal\u001b[39m\u001b[38;5;124m'\u001b[39m, \u001b[38;5;124m'\u001b[39m\u001b[38;5;124mreal\u001b[39m\u001b[38;5;124m'\u001b[39m, \u001b[38;5;124m'\u001b[39m\u001b[38;5;124mreal\u001b[39m\u001b[38;5;124m'\u001b[39m, \u001b[38;5;124m'\u001b[39m\u001b[38;5;124mreal\u001b[39m\u001b[38;5;124m'\u001b[39m, \u001b[38;5;124m'\u001b[39m\u001b[38;5;124mreal\u001b[39m\u001b[38;5;124m'\u001b[39m, \u001b[38;5;124m'\u001b[39m\u001b[38;5;124mreal\u001b[39m\u001b[38;5;124m'\u001b[39m, \u001b[38;5;124m'\u001b[39m\u001b[38;5;124mreal\u001b[39m\u001b[38;5;124m'\u001b[39m, \u001b[38;5;124m'\u001b[39m\u001b[38;5;124mreal\u001b[39m\u001b[38;5;124m'\u001b[39m, \u001b[38;5;124m'\u001b[39m\u001b[38;5;124mreal\u001b[39m\u001b[38;5;124m'\u001b[39m)\n\u001b[0;32m      7\u001b[0m model\u001b[38;5;241m=\u001b[39mga(function\u001b[38;5;241m=\u001b[39mf,dimension\u001b[38;5;241m=\u001b[39m\u001b[38;5;241m10\u001b[39m,variable_type\u001b[38;5;241m=\u001b[39mvartype,variable_boundaries\u001b[38;5;241m=\u001b[39mvarbound, algorithm_parameters\u001b[38;5;241m=\u001b[39malgorithm_param)\n\u001b[1;32m----> 9\u001b[0m result \u001b[38;5;241m=\u001b[39m \u001b[43mmodel\u001b[49m\u001b[38;5;241;43m.\u001b[39;49m\u001b[43mrun\u001b[49m\u001b[43m(\u001b[49m\u001b[43m)\u001b[49m\n",
      "File \u001b[1;32m~\\anaconda3\\lib\\site-packages\\geneticalgorithm2\\geneticalgorithm2.py:873\u001b[0m, in \u001b[0;36mgeneticalgorithm2.run\u001b[1;34m(self, no_plot, disable_printing, progress_bar_stream, disable_progress_bar, set_function, apply_function_to_parents, start_generation, studEA, mutation_indexes, init_creator, init_oppositors, duplicates_oppositor, remove_duplicates_generation_step, revolution_oppositor, revolution_after_stagnation_step, revolution_part, population_initializer, stop_when_reached, callbacks, middle_callbacks, time_limit_secs, save_last_generation_as, seed)\u001b[0m\n\u001b[0;32m    870\u001b[0m par_scores[elit_slice] \u001b[38;5;241m=\u001b[39m scores[elit_slice]\u001b[38;5;241m.\u001b[39mcopy()\n\u001b[0;32m    872\u001b[0m \u001b[38;5;66;03m# non-elit parents indexes\u001b[39;00m\n\u001b[1;32m--> 873\u001b[0m new_par_inds \u001b[38;5;241m=\u001b[39m \u001b[38;5;28;43mself\u001b[39;49m\u001b[38;5;241;43m.\u001b[39;49m\u001b[43mselection\u001b[49m\u001b[43m(\u001b[49m\u001b[43mscores\u001b[49m\u001b[43m[\u001b[49m\u001b[38;5;28;43mself\u001b[39;49m\u001b[38;5;241;43m.\u001b[39;49m\u001b[43melit_count\u001b[49m\u001b[43m:\u001b[49m\u001b[43m]\u001b[49m\u001b[43m,\u001b[49m\u001b[43m \u001b[49m\u001b[38;5;28;43mself\u001b[39;49m\u001b[38;5;241;43m.\u001b[39;49m\u001b[43mparents_count\u001b[49m\u001b[43m \u001b[49m\u001b[38;5;241;43m-\u001b[39;49m\u001b[43m \u001b[49m\u001b[38;5;28;43mself\u001b[39;49m\u001b[38;5;241;43m.\u001b[39;49m\u001b[43melit_count\u001b[49m\u001b[43m)\u001b[49m\u001b[38;5;241m.\u001b[39mastype(np\u001b[38;5;241m.\u001b[39mint16) \u001b[38;5;241m+\u001b[39m \u001b[38;5;28mself\u001b[39m\u001b[38;5;241m.\u001b[39melit_count\n\u001b[0;32m    874\u001b[0m \u001b[38;5;66;03m#new_par_inds = self.selection(scores, self.parents_count - self.elit_count).astype(np.int16)\u001b[39;00m\n\u001b[0;32m    875\u001b[0m par_slice \u001b[38;5;241m=\u001b[39m \u001b[38;5;28mslice\u001b[39m(\u001b[38;5;28mself\u001b[39m\u001b[38;5;241m.\u001b[39melit_count, \u001b[38;5;28mself\u001b[39m\u001b[38;5;241m.\u001b[39mparents_count)\n",
      "File \u001b[1;32m~\\anaconda3\\lib\\site-packages\\geneticalgorithm2\\selections.py:154\u001b[0m, in \u001b[0;36mSelection.tournament.<locals>.func\u001b[1;34m(scores, parents_count)\u001b[0m\n\u001b[0;32m    150\u001b[0m \u001b[38;5;28;01mdef\u001b[39;00m \u001b[38;5;21mfunc\u001b[39m(scores: np\u001b[38;5;241m.\u001b[39mndarray, parents_count: \u001b[38;5;28mint\u001b[39m):\n\u001b[0;32m    152\u001b[0m     indexes \u001b[38;5;241m=\u001b[39m np\u001b[38;5;241m.\u001b[39marange(parents_count)\n\u001b[1;32m--> 154\u001b[0m     \u001b[38;5;28;01mreturn\u001b[39;00m np\u001b[38;5;241m.\u001b[39marray([np\u001b[38;5;241m.\u001b[39mmin(np\u001b[38;5;241m.\u001b[39mrandom\u001b[38;5;241m.\u001b[39mchoice(indexes, tau, replace \u001b[38;5;241m=\u001b[39m \u001b[38;5;28;01mFalse\u001b[39;00m)) \u001b[38;5;28;01mfor\u001b[39;00m _ \u001b[38;5;129;01min\u001b[39;00m \u001b[38;5;28mrange\u001b[39m(parents_count)])\n",
      "File \u001b[1;32m~\\anaconda3\\lib\\site-packages\\geneticalgorithm2\\selections.py:154\u001b[0m, in \u001b[0;36m<listcomp>\u001b[1;34m(.0)\u001b[0m\n\u001b[0;32m    150\u001b[0m \u001b[38;5;28;01mdef\u001b[39;00m \u001b[38;5;21mfunc\u001b[39m(scores: np\u001b[38;5;241m.\u001b[39mndarray, parents_count: \u001b[38;5;28mint\u001b[39m):\n\u001b[0;32m    152\u001b[0m     indexes \u001b[38;5;241m=\u001b[39m np\u001b[38;5;241m.\u001b[39marange(parents_count)\n\u001b[1;32m--> 154\u001b[0m     \u001b[38;5;28;01mreturn\u001b[39;00m np\u001b[38;5;241m.\u001b[39marray([np\u001b[38;5;241m.\u001b[39mmin(\u001b[43mnp\u001b[49m\u001b[38;5;241;43m.\u001b[39;49m\u001b[43mrandom\u001b[49m\u001b[38;5;241;43m.\u001b[39;49m\u001b[43mchoice\u001b[49m\u001b[43m(\u001b[49m\u001b[43mindexes\u001b[49m\u001b[43m,\u001b[49m\u001b[43m \u001b[49m\u001b[43mtau\u001b[49m\u001b[43m,\u001b[49m\u001b[43m \u001b[49m\u001b[43mreplace\u001b[49m\u001b[43m \u001b[49m\u001b[38;5;241;43m=\u001b[39;49m\u001b[43m \u001b[49m\u001b[38;5;28;43;01mFalse\u001b[39;49;00m\u001b[43m)\u001b[49m) \u001b[38;5;28;01mfor\u001b[39;00m _ \u001b[38;5;129;01min\u001b[39;00m \u001b[38;5;28mrange\u001b[39m(parents_count)])\n",
      "\u001b[1;31mKeyboardInterrupt\u001b[0m: "
     ]
    }
   ],
   "source": [
    "import time\n",
    "\n",
    "#              A         B       C       D       D2      E       E2       M1      M2     M3\n",
    "varbound = [[0,1000],[0,1000],[0,1000],[0,20],[0,1000],[0,20],[0,1000],[0,128],[0,128],[0,128]]\n",
    "vartype = ('real', 'real', 'real', 'real', 'real', 'real', 'real', 'real', 'real', 'real')\n",
    "\n",
    "model=ga(function=f,dimension=10,variable_type=vartype,variable_boundaries=varbound, algorithm_parameters=algorithm_param)\n",
    "\n",
    "result = model.run()"
   ]
  },
  {
   "cell_type": "code",
   "execution_count": null,
   "id": "42d431ba-f28e-4932-ae47-68952ab48a40",
   "metadata": {},
   "outputs": [],
   "source": []
  }
 ],
 "metadata": {
  "kernelspec": {
   "display_name": "Python 3 (ipykernel)",
   "language": "python",
   "name": "python3"
  },
  "language_info": {
   "codemirror_mode": {
    "name": "ipython",
    "version": 3
   },
   "file_extension": ".py",
   "mimetype": "text/x-python",
   "name": "python",
   "nbconvert_exporter": "python",
   "pygments_lexer": "ipython3",
   "version": "3.9.12"
  }
 },
 "nbformat": 4,
 "nbformat_minor": 5
}
