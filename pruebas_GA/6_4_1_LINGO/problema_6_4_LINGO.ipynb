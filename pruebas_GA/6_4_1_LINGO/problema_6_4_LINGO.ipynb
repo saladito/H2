{
 "cells": [
  {
   "cell_type": "code",
   "execution_count": 5,
   "id": "a015ba98-ab11-4e69-9f7a-7267927f8e76",
   "metadata": {},
   "outputs": [],
   "source": [
    "import numpy as np\n",
    "import math\n",
    "import pandas as pd\n",
    "\n",
    "from geneticalgorithm2 import geneticalgorithm2 as ga # for creating and running optimization mode\n",
    "from geneticalgorithm2 import Generation, AlgorithmParams # classes for comfortable parameters setting and getting\n",
    "from geneticalgorithm2 import Crossover, Mutations, Selection # classes for specific mutation and crossover behavior\n",
    "from geneticalgorithm2 import Population_initializer # for creating better start population\n",
    "from geneticalgorithm2 import np_lru_cache # for cache function (if u want)\n",
    "from geneticalgorithm2 import plot_pop_scores # for plotting population scores, if u want\n",
    "from geneticalgorithm2 import Actions, ActionConditions, MiddleCallbacks # middle callbacks"
   ]
  },
  {
   "cell_type": "code",
   "execution_count": 12,
   "id": "d85fbb4f-8c9d-4bbc-ab29-fff34322a800",
   "metadata": {},
   "outputs": [
    {
     "name": "stdout",
     "output_type": "stream",
     "text": [
      "   Widgets  Frisbees\n",
      "0        3         5\n",
      "1        6         2\n",
      "2        3         4\n",
      "[[3 5]\n",
      " [6 2]\n",
      " [3 4]]\n"
     ]
    }
   ],
   "source": [
    " #read the csv file (put 'r' before the path string to address any special characters in the path, such as '\\'). Don't forget to put the file name at the end of the path + \".csv\"\n",
    "data = pd.read_csv ('data_6_4_LINGO.csv')\n",
    "df = pd.DataFrame(data)\n",
    "print(df)\n",
    "\n",
    "s_array = df[[\"Widgets\",\"Frisbees\"]].to_numpy()\n",
    "print(s_array)\n",
    "s_array[2,1]\n",
    "\n",
    "units_polyester = 12\n",
    "units_polypropylene = 10\n",
    "benef_widget = s_array[2,0]\n",
    "benef_frisbee = s_array[2,1]"
   ]
  },
  {
   "cell_type": "code",
   "execution_count": 13,
   "id": "980a035e-00b0-4e5b-af1b-e48b7572dd49",
   "metadata": {},
   "outputs": [],
   "source": [
    "def f(X):\n",
    "    pen = 0\n",
    "    if X[0]*s_array[0,0] + X[1]*s_array[0,1] > units_polyester:\n",
    "        pen += 11 + abs(X[0]*s_array[0,0] + X[1]*s_array[0,1] - units_polyester)\n",
    "    if X[0]*s_array[1,0] + X[1]*s_array[1,1] > units_polypropylene:\n",
    "        pen += 11 + abs(X[0]*s_array[1,0] + X[1]*s_array[1,1] - units_polypropylene)\n",
    "    res = X[0]*benef_widget + X[1]*benef_frisbee - pen\n",
    "    return -res"
   ]
  },
  {
   "cell_type": "code",
   "execution_count": 14,
   "id": "1cfb0fa8-ce34-4ddb-a6ab-1ecedf2c6503",
   "metadata": {},
   "outputs": [],
   "source": [
    "algorithm_param = {'max_num_iteration': 100,\\\n",
    "                   'population_size': 100,\\\n",
    "                   'mutation_probability':0.5,\\\n",
    "                   'elit_ratio': 0.01,\\\n",
    "                   'parents_portion': 0.3,\\\n",
    "                   'crossover_type':'one_point',\\\n",
    "                   'mutation_type':'gauss_by_center',\\\n",
    "                   'selection_type':'tournament',\\\n",
    "                   'max_iteration_without_improv':100}"
   ]
  },
  {
   "cell_type": "code",
   "execution_count": 15,
   "id": "7b37475b-81ff-40e7-b158-ade114421ce6",
   "metadata": {},
   "outputs": [
    {
     "name": "stdout",
     "output_type": "stream",
     "text": [
      "\n",
      "Average time of function evaluating (secs): 0.0004101395606994629 (total = 0.04101395606994629)\n",
      "\n",
      "Best score before optimization: -8.0\n",
      "                                                                                                                                                                                                        \n",
      " The best found solution:\n",
      " [0. 2.]\n",
      "\n",
      " Objective function:\n",
      " -8.0\n",
      "\n",
      " Used generations: 100\n",
      " Used time: 0.443 seconds\n"
     ]
    },
    {
     "data": {
      "image/png": "[encoded data removed]",
      "text/plain": [
       "<Figure size 432x288 with 1 Axes>"
      ]
     },
     "metadata": {
      "needs_background": "light"
     },
     "output_type": "display_data"
    }
   ],
   "source": [
    "import time\n",
    "\n",
    "#           Polye  Polyp\n",
    "varbound = [[0,1],[0,2]]\n",
    "\n",
    "model=ga(function=f,dimension=2,variable_type='int',variable_boundaries=varbound, algorithm_parameters=algorithm_param)\n",
    "\n",
    "result = model.run()"
   ]
  },
  {
   "cell_type": "code",
   "execution_count": null,
   "id": "42d431ba-f28e-4932-ae47-68952ab48a40",
   "metadata": {},
   "outputs": [],
   "source": []
  }
 ],
 "metadata": {
  "kernelspec": {
   "display_name": "Python 3 (ipykernel)",
   "language": "python",
   "name": "python3"
  },
  "language_info": {
   "codemirror_mode": {
    "name": "ipython",
    "version": 3
   },
   "file_extension": ".py",
   "mimetype": "text/x-python",
   "name": "python",
   "nbconvert_exporter": "python",
   "pygments_lexer": "ipython3",
   "version": "3.9.12"
  }
 },
 "nbformat": 4,
 "nbformat_minor": 5
}
