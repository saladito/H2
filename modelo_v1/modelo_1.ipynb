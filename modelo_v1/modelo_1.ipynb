{
 "cells": [
  {
   "cell_type": "code",
   "execution_count": 75,
   "id": "a015ba98-ab11-4e69-9f7a-7267927f8e76",
   "metadata": {},
   "outputs": [],
   "source": [
    "import numpy as np\n",
    "import math\n",
    "import pandas as pd\n",
    "from geneticalgorithm2 import geneticalgorithm2 as ga"
   ]
  },
  {
   "cell_type": "markdown",
   "id": "6306229a-069f-4a88-a34d-ff0b525f0ecf",
   "metadata": {},
   "source": [
    "## Leer datos de entrada de producción fotovoltaica"
   ]
  },
  {
   "cell_type": "code",
   "execution_count": 76,
   "id": "e51c62f0-17a7-484b-8b42-93e3b4432900",
   "metadata": {},
   "outputs": [
    {
     "name": "stdout",
     "output_type": "stream",
     "text": [
      "               time    P  G(i)  H_sun   T2m  WS10m  Int\n",
      "0     20190101:0010  0.0   0.0    0.0  6.89   0.97  0.0\n",
      "1     20190101:0110  0.0   0.0    0.0  6.69   0.83  0.0\n",
      "2     20190101:0210  0.0   0.0    0.0  6.43   0.69  0.0\n",
      "3     20190101:0310  0.0   0.0    0.0  6.11   0.62  0.0\n",
      "4     20190101:0410  0.0   0.0    0.0  5.78   0.69  0.0\n",
      "...             ...  ...   ...    ...   ...    ...  ...\n",
      "8755  20191231:1910  0.0   0.0    0.0  9.09   0.83  0.0\n",
      "8756  20191231:2010  0.0   0.0    0.0  7.48   1.10  0.0\n",
      "8757  20191231:2110  0.0   0.0    0.0  6.02   1.31  0.0\n",
      "8758  20191231:2210  0.0   0.0    0.0  5.13   1.38  0.0\n",
      "8759  20191231:2310  0.0   0.0    0.0  5.05   1.24  0.0\n",
      "\n",
      "[8760 rows x 7 columns]\n"
     ]
    }
   ],
   "source": [
    " #read the csv file (put 'r' before the path string to address any special characters in the path, such as '\\'). Don't forget to put the file name at the end of the path + \".csv\"\n",
    "produccion_fotovoltaica = pd.read_csv ('Timeseries_38.685_-4.108_SA2_100000kWp_crystSi_14_35deg_-5deg_2019_2019.csv')\n",
    "df = pd.DataFrame(produccion_fotovoltaica)\n",
    "print(df)"
   ]
  },
  {
   "cell_type": "markdown",
   "id": "5886acfa-7e4c-4c5c-953b-4cd6fe7ba139",
   "metadata": {},
   "source": [
    "## Formalización de los periodos horarios"
   ]
  },
  {
   "cell_type": "markdown",
   "id": "a931aee4-929e-4fa8-8300-227637afaa42",
   "metadata": {
    "tags": []
   },
   "source": [
    "### Representación de una fecha"
   ]
  },
  {
   "cell_type": "code",
   "execution_count": 116,
   "id": "2af87b57-a496-470c-8ea5-3aa3a10e0802",
   "metadata": {},
   "outputs": [],
   "source": [
    "# cantidad de días que tiene cada mes\n",
    "DIAS_MES = np.array([31,28,31,30,31,30,31,31,30,31,30,31])\n",
    "    \n",
    "# dias del año 2023 que son fin de semana\n",
    "FINES_SEMANA = np.array([1,7,8,14,15,21,22,28,29,\n",
    "                         35,36,42,43,49,50,56,57,\n",
    "                         63,64,70,71,77,78,84,85,\n",
    "                         91,92,98,99,105,106,112,113,119,120,\n",
    "                         126,127,133,134,140,141,147,148,\n",
    "                         154,155,161,162,168,169,175,176,\n",
    "                         182,183,189,190,196,197,203,204,210,211,\n",
    "                         217,218,224,225,231,232,238,239,\n",
    "                         245,246,252,253,259,260,266,267,\n",
    "                         273,274,280,281,287,288,294,295,301,302,\n",
    "                         308,309,315,316,322,323,329,330,\n",
    "                         336,337,343,344,350,351,357,358,364,365])\n",
    "\n",
    "# dias del año 2023 que son festivos (https://www.calendarr.com/espana/festivos-2023/)\n",
    "FESTIVOS = np.array([1,6,97,99,121,227,285,305,340,342,359])\n",
    "\n",
    "from enum import Enum\n",
    "\n",
    "class Tipo_dia(Enum):\n",
    "    A = 1\n",
    "    B = 2\n",
    "    B1 = 3\n",
    "    C = 4\n",
    "    D = 5\n",
    "\n",
    "class fecha_2023:\n",
    "    def __init__(self, dia, mes):\n",
    "        self.dia = dia\n",
    "        self.mes = mes\n",
    "    \n",
    "    def toNumber(self):\n",
    "        numero = 0\n",
    "        for i in range(self.mes-1):\n",
    "            numero += DIAS_MES[i]\n",
    "        return numero + self.dia\n",
    "    \n",
    "    def esFinDeSemana(self):\n",
    "        return self.toNumber() in FINES_SEMANA\n",
    "    \n",
    "    def esFestivo(self):\n",
    "        return self.toNumber() in FESTIVOS\n",
    "    \n",
    "    def esTemporadaAlta(self):\n",
    "        return (self.mes == 1) or (self.mes == 2) or (self.mes == 7) or (self.mes == 12)\n",
    "    \n",
    "    def esTemporadaMediaAlta(self):\n",
    "        return (self.mes == 3) or (self.mes == 11)\n",
    "    \n",
    "    def esTemporadaMedia(self):\n",
    "        return (self.mes == 6) or (self.mes == 8) or (self.mes == 9)\n",
    "    \n",
    "    def esTemporadaBaja(self):\n",
    "        return (self.mes == 4) or (self.mes == 5) or (self.mes == 10)\n",
    "    \n",
    "    def tipo(self):\n",
    "        if (not self.esFestivo()) and (not self.esFinDeSemana()) and self.esTemporadaAlta():\n",
    "            return Tipo_dia.A\n",
    "        elif (not self.esFestivo()) and (not self.esFinDeSemana()) and self.esTemporadaMediaAlta():\n",
    "            return Tipo_dia.B\n",
    "        elif (not self.esFestivo()) and (not self.esFinDeSemana()) and self.esTemporadaMedia():\n",
    "            return Tipo_dia.B1\n",
    "        elif (not self.esFestivo()) and (not self.esFinDeSemana()) and self.esTemporadaBaja():\n",
    "            return Tipo_dia.C\n",
    "        else:\n",
    "            return Tipo_dia.D"
   ]
  },
  {
   "cell_type": "markdown",
   "id": "760ebe52-8998-4c33-943a-99627df0ab1d",
   "metadata": {},
   "source": [
    "### Formar vector de periodos según las horas del año"
   ]
  },
  {
   "cell_type": "code",
   "execution_count": 154,
   "id": "02a6d4a4-823e-41a8-935a-9b0acc9dfa2c",
   "metadata": {},
   "outputs": [],
   "source": [
    "periodos_horarios_A  = np.array([6,6,6,6,6,6,6,6,2,1,1,1,1,1,2,2,2,2,1,1,1,1,2,2])\n",
    "periodos_horarios_B  = np.array([6,6,6,6,6,6,6,6,3,2,2,2,2,2,3,3,3,3,2,2,2,2,3,3])\n",
    "periodos_horarios_B1 = np.array([6,6,6,6,6,6,6,6,4,3,3,3,3,3,4,4,4,4,3,3,3,3,4,4])\n",
    "periodos_horarios_C  = np.array([6,6,6,6,6,6,6,6,5,4,4,4,4,4,5,5,5,5,4,4,4,4,5,5])\n",
    "periodos_horarios_D  = np.array([6,6,6,6,6,6,6,6,6,6,6,6,6,6,6,6,6,6,6,6,6,6,6,6])\n",
    "\n",
    "# fecha es un objeto de la clase \"fecha_2023\" y hora es un entero con valor dentro del rango [0-23]\n",
    "def periodoHora(fecha,hora):\n",
    "    if fecha.tipo() == Tipo_dia.A:\n",
    "        return periodos_horarios_A[hora]\n",
    "    elif fecha.tipo() == Tipo_dia.B:\n",
    "        return periodos_horarios_B[hora]\n",
    "    elif fecha.tipo() == Tipo_dia.B1:\n",
    "        return periodos_horarios_B1[hora]\n",
    "    elif fecha.tipo() == Tipo_dia.C:\n",
    "        return periodos_horarios_C[hora]\n",
    "    else:\n",
    "        return periodos_horarios_D[hora]\n",
    "    \n",
    "\n",
    "def init_PT(n):\n",
    "    times_raw = np.array(list(map(lambda a:a.split(\":\"), df.time.to_numpy())))\n",
    "    times = np.zeros((n,3), dtype=int)  # [mes, dia, hora]\n",
    "    for i in range(n):\n",
    "        times_raw[i][0] = (times_raw[i][0])[4:8]\n",
    "        times_raw[i][1] = (times_raw[i][1])[0:2]\n",
    "        \n",
    "        times[i][0] = (times_raw[i][0])[0:2] # mes\n",
    "        times[i][1] = (times_raw[i][0])[2:4] # dia\n",
    "        times[i][2] = times_raw[i][1] # hora\n",
    "        \n",
    "    PT = np.zeros(n, dtype=int)\n",
    "    \n",
    "    for i in range(n):\n",
    "        fecha = fecha_2023(times[i][1],times[i][0])\n",
    "        hora = times[i][2]\n",
    "        PT[i] = periodoHora(fecha,hora)\n",
    "    \n",
    "    return PT\n",
    "\n",
    "#a = init_PT(8760)\n",
    "#for i in a:\n",
    "#    print(i)"
   ]
  },
  {
   "cell_type": "markdown",
   "id": "2225153b-cdf7-42a2-9c5f-ba7db4441556",
   "metadata": {},
   "source": [
    "## Constantes"
   ]
  },
  {
   "cell_type": "code",
   "execution_count": 81,
   "id": "1171e117-ab1a-4f4b-80fd-81d366ae2f23",
   "metadata": {},
   "outputs": [],
   "source": [
    "def init_demanda_H2(n):\n",
    "    regex_h_OctToMar = '[0-9]{4}((0[1-3])|(1[0-2])).*$'\n",
    "    regex_h_AprToSep = '[0-9]{4}0[4-9].*$'\n",
    "    index_h_OctToMar = df.index[df.time.str.match(regex_h_OctToMar)].to_numpy()\n",
    "    index_h_AprToSep = df.index[df.time.str.match(regex_h_AprToSep)].to_numpy()\n",
    "    a = np.zeros(n)\n",
    "    np.put(a, index_h_OctToMar, 100)\n",
    "    np.put(a, index_h_AprToSep, 150)\n",
    "    return a"
   ]
  },
  {
   "cell_type": "code",
   "execution_count": 155,
   "id": "e99751e2-7e04-4ac5-a211-819b736e932d",
   "metadata": {},
   "outputs": [],
   "source": [
    "# Número total de horas del periodo de cálculo\n",
    "N_h = 8760\n",
    "\n",
    "# Producción eléctrica neta de la instalación fotovoltaica [kWh], >=0.\n",
    "E_Fv = df[[\"P\"]].to_numpy().ravel()\n",
    "\n",
    "# Potencia máxima de carga/descarga de las baterías [kW]. Igual a la energía máxima que se puede cargar/descargar en una hora [kWh], >=0.\n",
    "Pmax_Bat = 5000\n",
    "\n",
    "# Capacidad máxima de almacenamiento de las baterías [kWh], >=0.\n",
    "Emax_Bat = 20000\n",
    "\n",
    "# Potencia eléctrica nominal del electrolizador [kW]. Igual al consumo eléctrico nominal durante una hora [kWh], >=0.\n",
    "Pmax_Ez = 20000\n",
    "\n",
    "# Ordenada en el origen de la correlación lineal del consumo específico del electrolizador [kWh/ kg H2].\n",
    "a = 55\n",
    "\n",
    "# Pendiente de la correlación lineal del consumo específico del electrolizador [kWh/ kg H2].\n",
    "b = 0.1\n",
    "\n",
    "# Demanda de hidrógeno de Fertiberia [kg H2], >=0. H2_Dem = 100 (Octubre-Marzo) & = 150 (Abril-Septiembre), en kg H2.\n",
    "H2_Dem = init_demanda_H2(N_h)\n",
    "\n",
    "# Capacidad máxima de los tanques de hidrógeno [kg H2], >=0.\n",
    "H2max_Acu = 6000\n",
    "\n",
    "# Nivel mínimo de llenado de los tanques de hidrógeno [kg H2], >=0.\n",
    "H2min_Acu = 0\n",
    "\n",
    "# Penalización por rotura de stock de H2 [€/kg H2], >=0.\n",
    "Cesp_noH2 = 1000\n",
    "\n",
    "# Periodo de las tarifas eléctricas correspondiente a la hora i. Entero de 1 a 6. \n",
    "PT = init_PT(8760)\n",
    "\n",
    "# Tarifas de compra de electricidad en los periodos P1 a P6 [€/kWh], >=0.\n",
    "Tc_Ered = 0.001*np.array([280,250,180,150,130,90])\n",
    "\n",
    "# Tarifas de exportación (venta) de electricidad a la red en los periodos P1 a P6 [€/kWh], >=0.\n",
    "Texp_Ered = 0.001*np.array([140,130,95,75,70,40])"
   ]
  },
  {
   "cell_type": "markdown",
   "id": "7a9ead5d-e32b-4a6a-af4e-9af75bd032cf",
   "metadata": {},
   "source": [
    "### Inicialización de variables"
   ]
  },
  {
   "cell_type": "code",
   "execution_count": 92,
   "id": "d5484afa-5d91-4265-bb92-1015fda395b7",
   "metadata": {},
   "outputs": [],
   "source": [
    "########## Inicializar carga de batería y tanques de H2 ##########\n",
    "\n",
    "# Energía almacenada en las baterías [kWh], >=0. Ed_Bat[0] es la energía inicial en las baterías\n",
    "Ed_Bat = np.zeros(N_h+1)\n",
    "\n",
    "# Hidrógeno acumulado en los tanques [kg H2], >=0. H2_Acu[0] es la masa de H2 inicial en los tanques\n",
    "H2_Acu = np.zeros(N_h+1)\n",
    "\n",
    "\n",
    "# Energía cargada/descargada en la batería [kWh]. Un valor positivo indica que la batería se descarga y cede energía, mientras que si es negativo la batería se carga y eleva su energía almacenada.\n",
    "Eint_Bat = np.zeros(N_h)\n",
    "\n",
    "# Electricidad comprada/exportada a la red general [kWh]. Un valor positivo indica compra de energía de la red y es negativo cuando se exporta energía.\n",
    "E_Red = np.zeros(N_h)\n",
    "\n",
    "# Consumo eléctrico bruto del electrolizador [kWh], >=0.\n",
    "E_Ez = np.zeros(N_h)\n",
    "\n",
    "# Masa de hidrógeno producido por el electrolizador [kg H2], >=0.\n",
    "H2_Ez = np.zeros(N_h)\n",
    "\n",
    "# Diferencia o desvío entre la producción y la demanda de hidrógeno [kg H2]. Positivo si hay más producción y negativo si la demanda es mayor.\n",
    "H2_Desv = np.zeros(N_h)\n",
    "\n",
    "# Hidrógeno venteado a la atmósfera [kg H2], >=0.\n",
    "H2_Vent = np.zeros(N_h)\n",
    "\n",
    "# Demanda de hidrógeno no cubierta [kg H2], >=0.\n",
    "H2_noDem = np.zeros(N_h)\n",
    "\n",
    "# Beneficio económico de la compra/venta de electricidad a red [€]. Valor positivo indica ingresos y negativo costes.\n",
    "B_Ered = np.zeros(N_h)"
   ]
  },
  {
   "cell_type": "markdown",
   "id": "a40b3aec-d06f-4398-abd2-398784b37b7b",
   "metadata": {},
   "source": [
    "## Función objetivo"
   ]
  },
  {
   "cell_type": "code",
   "execution_count": 93,
   "id": "980a035e-00b0-4e5b-af1b-e48b7572dd49",
   "metadata": {},
   "outputs": [],
   "source": [
    "def f(X):\n",
    "    \n",
    "    for i in range(N_h):\n",
    "        \n",
    "        ########## Modelo técnico ##########\n",
    "        \n",
    "        if X[i*2] >= 0:  # batería se descarga\n",
    "            Eint_Bat[i] = X[i*2]*min(Pmax_Bat,Ed_Bat[i])\n",
    "        else:  # batería se carga\n",
    "            Eint_Bat[i] = X[i*2]*min(Pmax_Bat,Emax_Bat-Ed_Bat[i])\n",
    "        \n",
    "        Ed_Bat[i+1] = Ed_Bat[i] - Eint_Bat[i]  # balance de la batería\n",
    "        \n",
    "        E_Ez[i] = 0.01*X[i*2]*Pmax_Ez  # consumo del electeolizador\n",
    "        \n",
    "        E_Red[i] = E_Ez[i] - E_Fv[i] - Eint_Bat[i]  # balance eléctrico\n",
    "        \n",
    "        H2_Ez[i] = E_Ez[i]/(a+b*X[i*2+1])  # producción de H2\n",
    "        \n",
    "        H2_Desv[i] = H2_Ez[i]-H2_Dem[i]  # desvío producción-demanda H2\n",
    "        \n",
    "        if (H2_Acu[i] + H2_Desv[i]) > H2max_Acu:  # tanque lleno, venteo\n",
    "            H2_Acu[i+1] = H2max_Acu\n",
    "            H2_Vent[i] = H2_Acu[i] + H2_Desv[i] - H2max_Acu\n",
    "            H2_noDem[i] = 0\n",
    "        elif (H2_Acu[i] + H2_Desv[i]) < H2min_Acu:  # rotura stock\n",
    "            H2_Acu[i+1] = 0\n",
    "            H2_Vent[i] = 0\n",
    "            H2_noDem[i] = H2min_Acu - (H2_Acu[i] + H2_Desv[i])\n",
    "        else:  # tanque lleno dentro de rango\n",
    "            H2_Acu[i+1] = H2_Acu[i] + H2_Desv[i]\n",
    "            H2_Vent[i] = 0\n",
    "            H2_noDem[i] = 0\n",
    "        \n",
    "        ########## Modelo económico ##########\n",
    "        \n",
    "        if E_Red[i] >= 0:  # compra de red, beneficio negativo\n",
    "            B_Ered[i] = -1*E_Red[i]*Tc_Ered[PT[i]]\n",
    "        else:  # venta a red, beneficio positivo\n",
    "            B_Ered[i] = -1*E_Red[i]*Texp_Ered[PT[i]]\n",
    "    \n",
    "    \n",
    "    # Hidrógeno no suministrado a Fertiberia [kg H2], >=0.\n",
    "    H2tot_noDem = sum(H2_noDem)\n",
    "\n",
    "    # Beneficio total por compra/venta de luz [€]. Valor positivo indica ingresos y negativo costes.\n",
    "    Btot_Ered = sum(B_Ered[i])\n",
    "    \n",
    "    F_Obj = Btot_Ered - H2tot_noDem*Cesp_noH2  # valor de la función objetivo\n",
    "    return -F_Obj"
   ]
  },
  {
   "cell_type": "code",
   "execution_count": 41,
   "id": "1cfb0fa8-ce34-4ddb-a6ab-1ecedf2c6503",
   "metadata": {},
   "outputs": [],
   "source": [
    "algorithm_param = {'max_num_iteration': 100,\\\n",
    "                   'population_size': 100,\\\n",
    "                   'mutation_probability':0.1,\\\n",
    "                   'elit_ratio': 0.01,\\\n",
    "                   'parents_portion': 0.3,\\\n",
    "                   'crossover_type':'one_point',\\\n",
    "                   'max_iteration_without_improv': 100}"
   ]
  },
  {
   "cell_type": "code",
   "execution_count": 88,
   "id": "7b37475b-81ff-40e7-b158-ade114421ce6",
   "metadata": {
    "tags": []
   },
   "outputs": [
    {
     "name": "stdout",
     "output_type": "stream",
     "text": [
      "\n"
     ]
    }
   ],
   "source": [
    "import time\n",
    "\n",
    "'''Gc_Bat(i): potencia de carga/descarga de trabajo de las baterías, normalizada respecto al máximo valor posible \n",
    "    (‘Pmax_Bat’ o según las limitaciones existentes para la carga o descarga completa de la batería). Su valor se\n",
    "    sitúa en el rango [-1, 1] de modo que cuando adquiere valor nulo la batería ni se carga ni se descarga;\n",
    "    -1 representa carga máxima y 1 descarga. Se admiten valores intermedios. [Adimensional]'''\n",
    "\n",
    "'''Gc_Ez(i): grado de carga del electrolizador. [Adimensional]. Rango [0-100].'''\n",
    "\n",
    "\n",
    "varbound=[[-1,1],[0,100]]*N_h\n",
    "\n",
    "vartype = (('real','int'))*N_h\n",
    "\n",
    "#model=ga(function=f,dimension=N_h*2,variable_type=vartype,variable_boundaries=varbound, algorithm_parameters=algorithm_param)\n",
    "\n",
    "print()\n",
    "#model.run()"
   ]
  },
  {
   "cell_type": "code",
   "execution_count": null,
   "id": "5c949f52-e91f-4bd5-9174-eba1ce4f763e",
   "metadata": {},
   "outputs": [],
   "source": []
  }
 ],
 "metadata": {
  "kernelspec": {
   "display_name": "Python 3 (ipykernel)",
   "language": "python",
   "name": "python3"
  },
  "language_info": {
   "codemirror_mode": {
    "name": "ipython",
    "version": 3
   },
   "file_extension": ".py",
   "mimetype": "text/x-python",
   "name": "python",
   "nbconvert_exporter": "python",
   "pygments_lexer": "ipython3",
   "version": "3.9.12"
  },
  "toc-autonumbering": true
 },
 "nbformat": 4,
 "nbformat_minor": 5
}
