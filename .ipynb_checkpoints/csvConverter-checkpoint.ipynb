{
 "cells": [
  {
   "cell_type": "markdown",
   "id": "a6b14125-d655-4480-836e-335dcb93c142",
   "metadata": {},
   "source": [
    "## .txt to .csv converter\n",
    "Convert .txt file to .csv with a specific delimter and specifying if there is header or not"
   ]
  },
  {
   "cell_type": "code",
   "execution_count": 7,
   "id": "88af52ae-3f91-4515-bd0d-a2a4fe8aae5f",
   "metadata": {},
   "outputs": [],
   "source": [
    "import pandas as pd\n",
    "inp = \"pruebas_GA/marginalpdbc_20220707.txt\" # input file path\n",
    "outp = \"pruebas_GA/a.csv\" # input file path\n",
    "delim = ';' # delimiter"
   ]
  },
  {
   "cell_type": "code",
   "execution_count": 8,
   "id": "4e305f26-f106-4a70-a92e-5eefff1e4dc7",
   "metadata": {},
   "outputs": [],
   "source": [
    "# readinag given csv file and creating dataframe\n",
    "dataframe = pd.read_csv(inp,delimiter=delim, header=None)\n",
    "  \n",
    "# storing this dataframe in a csv file\n",
    "dataframe.to_csv(outp, index=None, header=head)"
   ]
  },
  {
   "cell_type": "code",
   "execution_count": null,
   "id": "8506d250-c77c-4397-9532-41b0228711d1",
   "metadata": {},
   "outputs": [],
   "source": []
  }
 ],
 "metadata": {
  "kernelspec": {
   "display_name": "Python 3 (ipykernel)",
   "language": "python",
   "name": "python3"
  },
  "language_info": {
   "codemirror_mode": {
    "name": "ipython",
    "version": 3
   },
   "file_extension": ".py",
   "mimetype": "text/x-python",
   "name": "python",
   "nbconvert_exporter": "python",
   "pygments_lexer": "ipython3",
   "version": "3.9.12"
  }
 },
 "nbformat": 4,
 "nbformat_minor": 5
}
